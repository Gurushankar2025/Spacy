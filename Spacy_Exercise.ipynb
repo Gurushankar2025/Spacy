{
  "nbformat": 4,
  "nbformat_minor": 0,
  "metadata": {
    "colab": {
      "provenance": [],
      "authorship_tag": "ABX9TyPlATCGttKbvNEMT3U4sSmO",
      "include_colab_link": true
    },
    "kernelspec": {
      "name": "python3",
      "display_name": "Python 3"
    },
    "language_info": {
      "name": "python"
    }
  },
  "cells": [
    {
      "cell_type": "markdown",
      "metadata": {
        "id": "view-in-github",
        "colab_type": "text"
      },
      "source": [
        "<a href=\"https://colab.research.google.com/github/Gurushankar2025/Spacy/blob/main/Spacy_Exercise.ipynb\" target=\"_parent\"><img src=\"https://colab.research.google.com/assets/colab-badge.svg\" alt=\"Open In Colab\"/></a>"
      ]
    },
    {
      "cell_type": "markdown",
      "source": [
        "## **SPACY EXERCISE**"
      ],
      "metadata": {
        "id": "ZbqbjwynEccz"
      }
    },
    {
      "cell_type": "markdown",
      "source": [
        "### 1. **NER Annotator & Highlighter**"
      ],
      "metadata": {
        "id": "TSkvLmSFELE5"
      }
    },
    {
      "cell_type": "code",
      "execution_count": null,
      "metadata": {
        "id": "vfMkRNGiDnP7"
      },
      "outputs": [],
      "source": [
        "\n",
        "import spacy"
      ]
    },
    {
      "cell_type": "code",
      "source": [
        "from spacy import displacy\n",
        "from spacy.tokenizer import Tokenizer\n",
        "from spacy.util import compile_infix_regex"
      ],
      "metadata": {
        "id": "tH60pi-pMzsB"
      },
      "execution_count": null,
      "outputs": []
    },
    {
      "cell_type": "code",
      "source": [
        "!pip install goose3"
      ],
      "metadata": {
        "colab": {
          "base_uri": "https://localhost:8080/"
        },
        "id": "CLcGO09XkX9U",
        "outputId": "0790a96c-55b0-4c46-8038-6c5837cd7d7f"
      },
      "execution_count": null,
      "outputs": [
        {
          "output_type": "stream",
          "name": "stdout",
          "text": [
            "Collecting goose3\n",
            "  Downloading goose3-3.1.19-py3-none-any.whl.metadata (11 kB)\n",
            "Requirement already satisfied: requests in /usr/local/lib/python3.11/dist-packages (from goose3) (2.32.3)\n",
            "Requirement already satisfied: Pillow in /usr/local/lib/python3.11/dist-packages (from goose3) (11.3.0)\n",
            "Requirement already satisfied: lxml in /usr/local/lib/python3.11/dist-packages (from goose3) (5.4.0)\n",
            "Collecting cssselect (from goose3)\n",
            "  Downloading cssselect-1.3.0-py3-none-any.whl.metadata (2.6 kB)\n",
            "Requirement already satisfied: beautifulsoup4 in /usr/local/lib/python3.11/dist-packages (from goose3) (4.13.4)\n",
            "Requirement already satisfied: python-dateutil in /usr/local/lib/python3.11/dist-packages (from goose3) (2.9.0.post0)\n",
            "Collecting langdetect (from goose3)\n",
            "  Downloading langdetect-1.0.9.tar.gz (981 kB)\n",
            "\u001b[2K     \u001b[90m━━━━━━━━━━━━━━━━━━━━━━━━━━━━━━━━━━━━━━\u001b[0m \u001b[32m981.5/981.5 kB\u001b[0m \u001b[31m37.9 MB/s\u001b[0m eta \u001b[36m0:00:00\u001b[0m\n",
            "\u001b[?25h  Preparing metadata (setup.py) ... \u001b[?25l\u001b[?25hdone\n",
            "Collecting pyahocorasick (from goose3)\n",
            "  Downloading pyahocorasick-2.2.0-cp311-cp311-manylinux_2_17_x86_64.manylinux2014_x86_64.whl.metadata (13 kB)\n",
            "Requirement already satisfied: soupsieve>1.2 in /usr/local/lib/python3.11/dist-packages (from beautifulsoup4->goose3) (2.7)\n",
            "Requirement already satisfied: typing-extensions>=4.0.0 in /usr/local/lib/python3.11/dist-packages (from beautifulsoup4->goose3) (4.14.1)\n",
            "Requirement already satisfied: six in /usr/local/lib/python3.11/dist-packages (from langdetect->goose3) (1.17.0)\n",
            "Requirement already satisfied: charset-normalizer<4,>=2 in /usr/local/lib/python3.11/dist-packages (from requests->goose3) (3.4.2)\n",
            "Requirement already satisfied: idna<4,>=2.5 in /usr/local/lib/python3.11/dist-packages (from requests->goose3) (3.10)\n",
            "Requirement already satisfied: urllib3<3,>=1.21.1 in /usr/local/lib/python3.11/dist-packages (from requests->goose3) (2.5.0)\n",
            "Requirement already satisfied: certifi>=2017.4.17 in /usr/local/lib/python3.11/dist-packages (from requests->goose3) (2025.7.14)\n",
            "Downloading goose3-3.1.19-py3-none-any.whl (113 kB)\n",
            "\u001b[2K   \u001b[90m━━━━━━━━━━━━━━━━━━━━━━━━━━━━━━━━━━━━━━━━\u001b[0m \u001b[32m113.4/113.4 kB\u001b[0m \u001b[31m9.5 MB/s\u001b[0m eta \u001b[36m0:00:00\u001b[0m\n",
            "\u001b[?25hDownloading cssselect-1.3.0-py3-none-any.whl (18 kB)\n",
            "Downloading pyahocorasick-2.2.0-cp311-cp311-manylinux_2_17_x86_64.manylinux2014_x86_64.whl (113 kB)\n",
            "\u001b[2K   \u001b[90m━━━━━━━━━━━━━━━━━━━━━━━━━━━━━━━━━━━━━━━━\u001b[0m \u001b[32m113.9/113.9 kB\u001b[0m \u001b[31m9.4 MB/s\u001b[0m eta \u001b[36m0:00:00\u001b[0m\n",
            "\u001b[?25hBuilding wheels for collected packages: langdetect\n",
            "  Building wheel for langdetect (setup.py) ... \u001b[?25l\u001b[?25hdone\n",
            "  Created wheel for langdetect: filename=langdetect-1.0.9-py3-none-any.whl size=993223 sha256=c60df65ecb14d64ce417af463dd5b62af4babbc947c5573893025ee8ede4a49f\n",
            "  Stored in directory: /root/.cache/pip/wheels/0a/f2/b2/e5ca405801e05eb7c8ed5b3b4bcf1fcabcd6272c167640072e\n",
            "Successfully built langdetect\n",
            "Installing collected packages: pyahocorasick, langdetect, cssselect, goose3\n",
            "Successfully installed cssselect-1.3.0 goose3-3.1.19 langdetect-1.0.9 pyahocorasick-2.2.0\n"
          ]
        }
      ]
    },
    {
      "cell_type": "code",
      "source": [
        "from goose3 import Goose\n",
        "from collections import Counter"
      ],
      "metadata": {
        "id": "VUvYZCNFkAoF"
      },
      "execution_count": null,
      "outputs": []
    },
    {
      "cell_type": "code",
      "source": [
        "nlp=spacy.load(\"en_core_web_sm\")"
      ],
      "metadata": {
        "id": "8Wx_D2xxFWxx"
      },
      "execution_count": null,
      "outputs": []
    },
    {
      "cell_type": "code",
      "source": [
        "doc=nlp(\"Apple Inc., headquartered in Cupertino, California, was founded by Steve Jobs, Steve Wozniak, and Ronald Wayne in 1976. The company released the first iPhone in 2007, transforming the smartphone industry. In June 2023, Apple announced a $3 billion investment in India to expand its manufacturing and retail presence. CEO Tim Cook also met with Prime Minister Narendra Modi in New Delhi during his visit\")"
      ],
      "metadata": {
        "id": "gjD8PCRIFk4s"
      },
      "execution_count": null,
      "outputs": []
    },
    {
      "cell_type": "code",
      "source": [
        "for token in doc:\n",
        "  print(token.text)                     #Tokenization"
      ],
      "metadata": {
        "colab": {
          "base_uri": "https://localhost:8080/"
        },
        "id": "4z7Gzgn0Gi-U",
        "outputId": "e6091709-feed-4c68-e9ce-14cc6146c39e"
      },
      "execution_count": null,
      "outputs": [
        {
          "output_type": "stream",
          "name": "stdout",
          "text": [
            "Apple\n",
            "Inc.\n",
            ",\n",
            "headquartered\n",
            "in\n",
            "Cupertino\n",
            ",\n",
            "California\n",
            ",\n",
            "was\n",
            "founded\n",
            "by\n",
            "Steve\n",
            "Jobs\n",
            ",\n",
            "Steve\n",
            "Wozniak\n",
            ",\n",
            "and\n",
            "Ronald\n",
            "Wayne\n",
            "in\n",
            "1976\n",
            ".\n",
            "The\n",
            "company\n",
            "released\n",
            "the\n",
            "first\n",
            "iPhone\n",
            "in\n",
            "2007\n",
            ",\n",
            "transforming\n",
            "the\n",
            "smartphone\n",
            "industry\n",
            ".\n",
            "In\n",
            "June\n",
            "2023\n",
            ",\n",
            "Apple\n",
            "announced\n",
            "a\n",
            "$\n",
            "3\n",
            "billion\n",
            "investment\n",
            "in\n",
            "India\n",
            "to\n",
            "expand\n",
            "its\n",
            "manufacturing\n",
            "and\n",
            "retail\n",
            "presence\n",
            ".\n",
            "CEO\n",
            "Tim\n",
            "Cook\n",
            "also\n",
            "met\n",
            "with\n",
            "Prime\n",
            "Minister\n",
            "Narendra\n",
            "Modi\n",
            "in\n",
            "New\n",
            "Delhi\n",
            "during\n",
            "his\n",
            "visit\n"
          ]
        }
      ]
    },
    {
      "cell_type": "code",
      "source": [
        "for token in doc:\n",
        "  if token.ent_type:\n",
        "    print(token.text, token.ent_type_)"
      ],
      "metadata": {
        "colab": {
          "base_uri": "https://localhost:8080/"
        },
        "id": "ic9T2ojWHzSY",
        "outputId": "2a380e71-0b25-4967-ac45-1ddde37dd9fb"
      },
      "execution_count": null,
      "outputs": [
        {
          "output_type": "stream",
          "name": "stdout",
          "text": [
            "Apple ORG\n",
            "Inc. ORG\n",
            "Cupertino GPE\n",
            "California GPE\n",
            "Steve PERSON\n",
            "Jobs PERSON\n",
            "Steve PERSON\n",
            "Wozniak PERSON\n",
            "Ronald PERSON\n",
            "Wayne PERSON\n",
            "1976 DATE\n",
            "first ORDINAL\n",
            "2007 DATE\n",
            "June DATE\n",
            "2023 DATE\n",
            "Apple ORG\n",
            "$ MONEY\n",
            "3 MONEY\n",
            "billion MONEY\n",
            "India GPE\n",
            "Tim PERSON\n",
            "Cook PERSON\n",
            "Narendra PERSON\n",
            "Modi PERSON\n",
            "New GPE\n",
            "Delhi GPE\n"
          ]
        }
      ]
    },
    {
      "cell_type": "code",
      "source": [
        "displacy.render(doc, style=\"ent\")"
      ],
      "metadata": {
        "colab": {
          "base_uri": "https://localhost:8080/",
          "height": 122
        },
        "id": "n0WgwE7qM-Ts",
        "outputId": "c45a1174-7013-4351-a665-081fe5565249"
      },
      "execution_count": null,
      "outputs": [
        {
          "output_type": "display_data",
          "data": {
            "text/plain": [
              "<IPython.core.display.HTML object>"
            ],
            "text/html": [
              "<span class=\"tex2jax_ignore\"><div class=\"entities\" style=\"line-height: 2.5; direction: ltr\">\n",
              "<mark class=\"entity\" style=\"background: #7aecec; padding: 0.45em 0.6em; margin: 0 0.25em; line-height: 1; border-radius: 0.35em;\">\n",
              "    Apple Inc.\n",
              "    <span style=\"font-size: 0.8em; font-weight: bold; line-height: 1; border-radius: 0.35em; vertical-align: middle; margin-left: 0.5rem\">ORG</span>\n",
              "</mark>\n",
              ", headquartered in \n",
              "<mark class=\"entity\" style=\"background: #feca74; padding: 0.45em 0.6em; margin: 0 0.25em; line-height: 1; border-radius: 0.35em;\">\n",
              "    Cupertino\n",
              "    <span style=\"font-size: 0.8em; font-weight: bold; line-height: 1; border-radius: 0.35em; vertical-align: middle; margin-left: 0.5rem\">GPE</span>\n",
              "</mark>\n",
              ", \n",
              "<mark class=\"entity\" style=\"background: #feca74; padding: 0.45em 0.6em; margin: 0 0.25em; line-height: 1; border-radius: 0.35em;\">\n",
              "    California\n",
              "    <span style=\"font-size: 0.8em; font-weight: bold; line-height: 1; border-radius: 0.35em; vertical-align: middle; margin-left: 0.5rem\">GPE</span>\n",
              "</mark>\n",
              ", was founded by \n",
              "<mark class=\"entity\" style=\"background: #aa9cfc; padding: 0.45em 0.6em; margin: 0 0.25em; line-height: 1; border-radius: 0.35em;\">\n",
              "    Steve Jobs\n",
              "    <span style=\"font-size: 0.8em; font-weight: bold; line-height: 1; border-radius: 0.35em; vertical-align: middle; margin-left: 0.5rem\">PERSON</span>\n",
              "</mark>\n",
              ", \n",
              "<mark class=\"entity\" style=\"background: #aa9cfc; padding: 0.45em 0.6em; margin: 0 0.25em; line-height: 1; border-radius: 0.35em;\">\n",
              "    Steve Wozniak\n",
              "    <span style=\"font-size: 0.8em; font-weight: bold; line-height: 1; border-radius: 0.35em; vertical-align: middle; margin-left: 0.5rem\">PERSON</span>\n",
              "</mark>\n",
              ", and \n",
              "<mark class=\"entity\" style=\"background: #aa9cfc; padding: 0.45em 0.6em; margin: 0 0.25em; line-height: 1; border-radius: 0.35em;\">\n",
              "    Ronald Wayne\n",
              "    <span style=\"font-size: 0.8em; font-weight: bold; line-height: 1; border-radius: 0.35em; vertical-align: middle; margin-left: 0.5rem\">PERSON</span>\n",
              "</mark>\n",
              " in \n",
              "<mark class=\"entity\" style=\"background: #bfe1d9; padding: 0.45em 0.6em; margin: 0 0.25em; line-height: 1; border-radius: 0.35em;\">\n",
              "    1976\n",
              "    <span style=\"font-size: 0.8em; font-weight: bold; line-height: 1; border-radius: 0.35em; vertical-align: middle; margin-left: 0.5rem\">DATE</span>\n",
              "</mark>\n",
              ". The company released the \n",
              "<mark class=\"entity\" style=\"background: #e4e7d2; padding: 0.45em 0.6em; margin: 0 0.25em; line-height: 1; border-radius: 0.35em;\">\n",
              "    first\n",
              "    <span style=\"font-size: 0.8em; font-weight: bold; line-height: 1; border-radius: 0.35em; vertical-align: middle; margin-left: 0.5rem\">ORDINAL</span>\n",
              "</mark>\n",
              " iPhone in \n",
              "<mark class=\"entity\" style=\"background: #bfe1d9; padding: 0.45em 0.6em; margin: 0 0.25em; line-height: 1; border-radius: 0.35em;\">\n",
              "    2007\n",
              "    <span style=\"font-size: 0.8em; font-weight: bold; line-height: 1; border-radius: 0.35em; vertical-align: middle; margin-left: 0.5rem\">DATE</span>\n",
              "</mark>\n",
              ", transforming the smartphone industry. In \n",
              "<mark class=\"entity\" style=\"background: #bfe1d9; padding: 0.45em 0.6em; margin: 0 0.25em; line-height: 1; border-radius: 0.35em;\">\n",
              "    June 2023\n",
              "    <span style=\"font-size: 0.8em; font-weight: bold; line-height: 1; border-radius: 0.35em; vertical-align: middle; margin-left: 0.5rem\">DATE</span>\n",
              "</mark>\n",
              ", \n",
              "<mark class=\"entity\" style=\"background: #7aecec; padding: 0.45em 0.6em; margin: 0 0.25em; line-height: 1; border-radius: 0.35em;\">\n",
              "    Apple\n",
              "    <span style=\"font-size: 0.8em; font-weight: bold; line-height: 1; border-radius: 0.35em; vertical-align: middle; margin-left: 0.5rem\">ORG</span>\n",
              "</mark>\n",
              " announced a \n",
              "<mark class=\"entity\" style=\"background: #e4e7d2; padding: 0.45em 0.6em; margin: 0 0.25em; line-height: 1; border-radius: 0.35em;\">\n",
              "    $3 billion\n",
              "    <span style=\"font-size: 0.8em; font-weight: bold; line-height: 1; border-radius: 0.35em; vertical-align: middle; margin-left: 0.5rem\">MONEY</span>\n",
              "</mark>\n",
              " investment in \n",
              "<mark class=\"entity\" style=\"background: #feca74; padding: 0.45em 0.6em; margin: 0 0.25em; line-height: 1; border-radius: 0.35em;\">\n",
              "    India\n",
              "    <span style=\"font-size: 0.8em; font-weight: bold; line-height: 1; border-radius: 0.35em; vertical-align: middle; margin-left: 0.5rem\">GPE</span>\n",
              "</mark>\n",
              " to expand its manufacturing and retail presence. CEO \n",
              "<mark class=\"entity\" style=\"background: #aa9cfc; padding: 0.45em 0.6em; margin: 0 0.25em; line-height: 1; border-radius: 0.35em;\">\n",
              "    Tim Cook\n",
              "    <span style=\"font-size: 0.8em; font-weight: bold; line-height: 1; border-radius: 0.35em; vertical-align: middle; margin-left: 0.5rem\">PERSON</span>\n",
              "</mark>\n",
              " also met with Prime Minister \n",
              "<mark class=\"entity\" style=\"background: #aa9cfc; padding: 0.45em 0.6em; margin: 0 0.25em; line-height: 1; border-radius: 0.35em;\">\n",
              "    Narendra Modi\n",
              "    <span style=\"font-size: 0.8em; font-weight: bold; line-height: 1; border-radius: 0.35em; vertical-align: middle; margin-left: 0.5rem\">PERSON</span>\n",
              "</mark>\n",
              " in \n",
              "<mark class=\"entity\" style=\"background: #feca74; padding: 0.45em 0.6em; margin: 0 0.25em; line-height: 1; border-radius: 0.35em;\">\n",
              "    New Delhi\n",
              "    <span style=\"font-size: 0.8em; font-weight: bold; line-height: 1; border-radius: 0.35em; vertical-align: middle; margin-left: 0.5rem\">GPE</span>\n",
              "</mark>\n",
              " during his visit</div></span>"
            ]
          },
          "metadata": {}
        }
      ]
    },
    {
      "cell_type": "markdown",
      "source": [
        "### **POS and Dependency Tree Visualization**"
      ],
      "metadata": {
        "id": "yNvRz-oRM7Po"
      }
    },
    {
      "cell_type": "code",
      "source": [
        "doc=nlp('The quick brown fox jumped over the lazy dog while the farmers were working in the field. Later, they rested under a big tree because the sun was too hot.')"
      ],
      "metadata": {
        "id": "mqzif3svOBRl"
      },
      "execution_count": null,
      "outputs": []
    },
    {
      "cell_type": "code",
      "source": [
        "for token in doc:\n",
        "  print(token.text+' ==> '+token.pos_)"
      ],
      "metadata": {
        "colab": {
          "base_uri": "https://localhost:8080/"
        },
        "id": "1Yqh8jDEONTf",
        "outputId": "64d74a24-8b5f-4da8-e553-aa113824481c"
      },
      "execution_count": null,
      "outputs": [
        {
          "output_type": "stream",
          "name": "stdout",
          "text": [
            "The ==> DET\n",
            "quick ==> ADJ\n",
            "brown ==> ADJ\n",
            "fox ==> NOUN\n",
            "jumped ==> VERB\n",
            "over ==> ADP\n",
            "the ==> DET\n",
            "lazy ==> ADJ\n",
            "dog ==> NOUN\n",
            "while ==> SCONJ\n",
            "the ==> DET\n",
            "farmers ==> NOUN\n",
            "were ==> AUX\n",
            "working ==> VERB\n",
            "in ==> ADP\n",
            "the ==> DET\n",
            "field ==> NOUN\n",
            ". ==> PUNCT\n",
            "Later ==> ADV\n",
            ", ==> PUNCT\n",
            "they ==> PRON\n",
            "rested ==> VERB\n",
            "under ==> ADP\n",
            "a ==> DET\n",
            "big ==> ADJ\n",
            "tree ==> NOUN\n",
            "because ==> SCONJ\n",
            "the ==> DET\n",
            "sun ==> NOUN\n",
            "was ==> AUX\n",
            "too ==> ADV\n",
            "hot ==> ADJ\n",
            ". ==> PUNCT\n"
          ]
        }
      ]
    },
    {
      "cell_type": "code",
      "source": [
        "displacy.render(doc, style=\"dep\",jupyter=True)"
      ],
      "metadata": {
        "colab": {
          "base_uri": "https://localhost:8080/",
          "height": 529
        },
        "id": "BS9uzRThPOD4",
        "outputId": "c48ed178-0d06-4631-a0c5-e5a28ee13bdd"
      },
      "execution_count": null,
      "outputs": [
        {
          "output_type": "display_data",
          "data": {
            "text/plain": [
              "<IPython.core.display.HTML object>"
            ],
            "text/html": [
              "<span class=\"tex2jax_ignore\"><svg xmlns=\"http://www.w3.org/2000/svg\" xmlns:xlink=\"http://www.w3.org/1999/xlink\" xml:lang=\"en\" id=\"cf56b0eca632449883a08d945390fe86-0\" class=\"displacy\" width=\"5300\" height=\"487.0\" direction=\"ltr\" style=\"max-width: none; height: 487.0px; color: #000000; background: #ffffff; font-family: Arial; direction: ltr\">\n",
              "<text class=\"displacy-token\" fill=\"currentColor\" text-anchor=\"middle\" y=\"397.0\">\n",
              "    <tspan class=\"displacy-word\" fill=\"currentColor\" x=\"50\">The</tspan>\n",
              "    <tspan class=\"displacy-tag\" dy=\"2em\" fill=\"currentColor\" x=\"50\">DET</tspan>\n",
              "</text>\n",
              "\n",
              "<text class=\"displacy-token\" fill=\"currentColor\" text-anchor=\"middle\" y=\"397.0\">\n",
              "    <tspan class=\"displacy-word\" fill=\"currentColor\" x=\"225\">quick</tspan>\n",
              "    <tspan class=\"displacy-tag\" dy=\"2em\" fill=\"currentColor\" x=\"225\">ADJ</tspan>\n",
              "</text>\n",
              "\n",
              "<text class=\"displacy-token\" fill=\"currentColor\" text-anchor=\"middle\" y=\"397.0\">\n",
              "    <tspan class=\"displacy-word\" fill=\"currentColor\" x=\"400\">brown</tspan>\n",
              "    <tspan class=\"displacy-tag\" dy=\"2em\" fill=\"currentColor\" x=\"400\">ADJ</tspan>\n",
              "</text>\n",
              "\n",
              "<text class=\"displacy-token\" fill=\"currentColor\" text-anchor=\"middle\" y=\"397.0\">\n",
              "    <tspan class=\"displacy-word\" fill=\"currentColor\" x=\"575\">fox</tspan>\n",
              "    <tspan class=\"displacy-tag\" dy=\"2em\" fill=\"currentColor\" x=\"575\">NOUN</tspan>\n",
              "</text>\n",
              "\n",
              "<text class=\"displacy-token\" fill=\"currentColor\" text-anchor=\"middle\" y=\"397.0\">\n",
              "    <tspan class=\"displacy-word\" fill=\"currentColor\" x=\"750\">jumped</tspan>\n",
              "    <tspan class=\"displacy-tag\" dy=\"2em\" fill=\"currentColor\" x=\"750\">VERB</tspan>\n",
              "</text>\n",
              "\n",
              "<text class=\"displacy-token\" fill=\"currentColor\" text-anchor=\"middle\" y=\"397.0\">\n",
              "    <tspan class=\"displacy-word\" fill=\"currentColor\" x=\"925\">over</tspan>\n",
              "    <tspan class=\"displacy-tag\" dy=\"2em\" fill=\"currentColor\" x=\"925\">ADP</tspan>\n",
              "</text>\n",
              "\n",
              "<text class=\"displacy-token\" fill=\"currentColor\" text-anchor=\"middle\" y=\"397.0\">\n",
              "    <tspan class=\"displacy-word\" fill=\"currentColor\" x=\"1100\">the</tspan>\n",
              "    <tspan class=\"displacy-tag\" dy=\"2em\" fill=\"currentColor\" x=\"1100\">DET</tspan>\n",
              "</text>\n",
              "\n",
              "<text class=\"displacy-token\" fill=\"currentColor\" text-anchor=\"middle\" y=\"397.0\">\n",
              "    <tspan class=\"displacy-word\" fill=\"currentColor\" x=\"1275\">lazy</tspan>\n",
              "    <tspan class=\"displacy-tag\" dy=\"2em\" fill=\"currentColor\" x=\"1275\">ADJ</tspan>\n",
              "</text>\n",
              "\n",
              "<text class=\"displacy-token\" fill=\"currentColor\" text-anchor=\"middle\" y=\"397.0\">\n",
              "    <tspan class=\"displacy-word\" fill=\"currentColor\" x=\"1450\">dog</tspan>\n",
              "    <tspan class=\"displacy-tag\" dy=\"2em\" fill=\"currentColor\" x=\"1450\">NOUN</tspan>\n",
              "</text>\n",
              "\n",
              "<text class=\"displacy-token\" fill=\"currentColor\" text-anchor=\"middle\" y=\"397.0\">\n",
              "    <tspan class=\"displacy-word\" fill=\"currentColor\" x=\"1625\">while</tspan>\n",
              "    <tspan class=\"displacy-tag\" dy=\"2em\" fill=\"currentColor\" x=\"1625\">SCONJ</tspan>\n",
              "</text>\n",
              "\n",
              "<text class=\"displacy-token\" fill=\"currentColor\" text-anchor=\"middle\" y=\"397.0\">\n",
              "    <tspan class=\"displacy-word\" fill=\"currentColor\" x=\"1800\">the</tspan>\n",
              "    <tspan class=\"displacy-tag\" dy=\"2em\" fill=\"currentColor\" x=\"1800\">DET</tspan>\n",
              "</text>\n",
              "\n",
              "<text class=\"displacy-token\" fill=\"currentColor\" text-anchor=\"middle\" y=\"397.0\">\n",
              "    <tspan class=\"displacy-word\" fill=\"currentColor\" x=\"1975\">farmers</tspan>\n",
              "    <tspan class=\"displacy-tag\" dy=\"2em\" fill=\"currentColor\" x=\"1975\">NOUN</tspan>\n",
              "</text>\n",
              "\n",
              "<text class=\"displacy-token\" fill=\"currentColor\" text-anchor=\"middle\" y=\"397.0\">\n",
              "    <tspan class=\"displacy-word\" fill=\"currentColor\" x=\"2150\">were</tspan>\n",
              "    <tspan class=\"displacy-tag\" dy=\"2em\" fill=\"currentColor\" x=\"2150\">AUX</tspan>\n",
              "</text>\n",
              "\n",
              "<text class=\"displacy-token\" fill=\"currentColor\" text-anchor=\"middle\" y=\"397.0\">\n",
              "    <tspan class=\"displacy-word\" fill=\"currentColor\" x=\"2325\">working</tspan>\n",
              "    <tspan class=\"displacy-tag\" dy=\"2em\" fill=\"currentColor\" x=\"2325\">VERB</tspan>\n",
              "</text>\n",
              "\n",
              "<text class=\"displacy-token\" fill=\"currentColor\" text-anchor=\"middle\" y=\"397.0\">\n",
              "    <tspan class=\"displacy-word\" fill=\"currentColor\" x=\"2500\">in</tspan>\n",
              "    <tspan class=\"displacy-tag\" dy=\"2em\" fill=\"currentColor\" x=\"2500\">ADP</tspan>\n",
              "</text>\n",
              "\n",
              "<text class=\"displacy-token\" fill=\"currentColor\" text-anchor=\"middle\" y=\"397.0\">\n",
              "    <tspan class=\"displacy-word\" fill=\"currentColor\" x=\"2675\">the</tspan>\n",
              "    <tspan class=\"displacy-tag\" dy=\"2em\" fill=\"currentColor\" x=\"2675\">DET</tspan>\n",
              "</text>\n",
              "\n",
              "<text class=\"displacy-token\" fill=\"currentColor\" text-anchor=\"middle\" y=\"397.0\">\n",
              "    <tspan class=\"displacy-word\" fill=\"currentColor\" x=\"2850\">field.</tspan>\n",
              "    <tspan class=\"displacy-tag\" dy=\"2em\" fill=\"currentColor\" x=\"2850\">NOUN</tspan>\n",
              "</text>\n",
              "\n",
              "<text class=\"displacy-token\" fill=\"currentColor\" text-anchor=\"middle\" y=\"397.0\">\n",
              "    <tspan class=\"displacy-word\" fill=\"currentColor\" x=\"3025\">Later,</tspan>\n",
              "    <tspan class=\"displacy-tag\" dy=\"2em\" fill=\"currentColor\" x=\"3025\">ADV</tspan>\n",
              "</text>\n",
              "\n",
              "<text class=\"displacy-token\" fill=\"currentColor\" text-anchor=\"middle\" y=\"397.0\">\n",
              "    <tspan class=\"displacy-word\" fill=\"currentColor\" x=\"3200\">they</tspan>\n",
              "    <tspan class=\"displacy-tag\" dy=\"2em\" fill=\"currentColor\" x=\"3200\">PRON</tspan>\n",
              "</text>\n",
              "\n",
              "<text class=\"displacy-token\" fill=\"currentColor\" text-anchor=\"middle\" y=\"397.0\">\n",
              "    <tspan class=\"displacy-word\" fill=\"currentColor\" x=\"3375\">rested</tspan>\n",
              "    <tspan class=\"displacy-tag\" dy=\"2em\" fill=\"currentColor\" x=\"3375\">VERB</tspan>\n",
              "</text>\n",
              "\n",
              "<text class=\"displacy-token\" fill=\"currentColor\" text-anchor=\"middle\" y=\"397.0\">\n",
              "    <tspan class=\"displacy-word\" fill=\"currentColor\" x=\"3550\">under</tspan>\n",
              "    <tspan class=\"displacy-tag\" dy=\"2em\" fill=\"currentColor\" x=\"3550\">ADP</tspan>\n",
              "</text>\n",
              "\n",
              "<text class=\"displacy-token\" fill=\"currentColor\" text-anchor=\"middle\" y=\"397.0\">\n",
              "    <tspan class=\"displacy-word\" fill=\"currentColor\" x=\"3725\">a</tspan>\n",
              "    <tspan class=\"displacy-tag\" dy=\"2em\" fill=\"currentColor\" x=\"3725\">DET</tspan>\n",
              "</text>\n",
              "\n",
              "<text class=\"displacy-token\" fill=\"currentColor\" text-anchor=\"middle\" y=\"397.0\">\n",
              "    <tspan class=\"displacy-word\" fill=\"currentColor\" x=\"3900\">big</tspan>\n",
              "    <tspan class=\"displacy-tag\" dy=\"2em\" fill=\"currentColor\" x=\"3900\">ADJ</tspan>\n",
              "</text>\n",
              "\n",
              "<text class=\"displacy-token\" fill=\"currentColor\" text-anchor=\"middle\" y=\"397.0\">\n",
              "    <tspan class=\"displacy-word\" fill=\"currentColor\" x=\"4075\">tree</tspan>\n",
              "    <tspan class=\"displacy-tag\" dy=\"2em\" fill=\"currentColor\" x=\"4075\">NOUN</tspan>\n",
              "</text>\n",
              "\n",
              "<text class=\"displacy-token\" fill=\"currentColor\" text-anchor=\"middle\" y=\"397.0\">\n",
              "    <tspan class=\"displacy-word\" fill=\"currentColor\" x=\"4250\">because</tspan>\n",
              "    <tspan class=\"displacy-tag\" dy=\"2em\" fill=\"currentColor\" x=\"4250\">SCONJ</tspan>\n",
              "</text>\n",
              "\n",
              "<text class=\"displacy-token\" fill=\"currentColor\" text-anchor=\"middle\" y=\"397.0\">\n",
              "    <tspan class=\"displacy-word\" fill=\"currentColor\" x=\"4425\">the</tspan>\n",
              "    <tspan class=\"displacy-tag\" dy=\"2em\" fill=\"currentColor\" x=\"4425\">DET</tspan>\n",
              "</text>\n",
              "\n",
              "<text class=\"displacy-token\" fill=\"currentColor\" text-anchor=\"middle\" y=\"397.0\">\n",
              "    <tspan class=\"displacy-word\" fill=\"currentColor\" x=\"4600\">sun</tspan>\n",
              "    <tspan class=\"displacy-tag\" dy=\"2em\" fill=\"currentColor\" x=\"4600\">NOUN</tspan>\n",
              "</text>\n",
              "\n",
              "<text class=\"displacy-token\" fill=\"currentColor\" text-anchor=\"middle\" y=\"397.0\">\n",
              "    <tspan class=\"displacy-word\" fill=\"currentColor\" x=\"4775\">was</tspan>\n",
              "    <tspan class=\"displacy-tag\" dy=\"2em\" fill=\"currentColor\" x=\"4775\">AUX</tspan>\n",
              "</text>\n",
              "\n",
              "<text class=\"displacy-token\" fill=\"currentColor\" text-anchor=\"middle\" y=\"397.0\">\n",
              "    <tspan class=\"displacy-word\" fill=\"currentColor\" x=\"4950\">too</tspan>\n",
              "    <tspan class=\"displacy-tag\" dy=\"2em\" fill=\"currentColor\" x=\"4950\">ADV</tspan>\n",
              "</text>\n",
              "\n",
              "<text class=\"displacy-token\" fill=\"currentColor\" text-anchor=\"middle\" y=\"397.0\">\n",
              "    <tspan class=\"displacy-word\" fill=\"currentColor\" x=\"5125\">hot.</tspan>\n",
              "    <tspan class=\"displacy-tag\" dy=\"2em\" fill=\"currentColor\" x=\"5125\">ADJ</tspan>\n",
              "</text>\n",
              "\n",
              "<g class=\"displacy-arrow\">\n",
              "    <path class=\"displacy-arc\" id=\"arrow-cf56b0eca632449883a08d945390fe86-0-0\" stroke-width=\"2px\" d=\"M70,352.0 C70,89.5 570.0,89.5 570.0,352.0\" fill=\"none\" stroke=\"currentColor\"/>\n",
              "    <text dy=\"1.25em\" style=\"font-size: 0.8em; letter-spacing: 1px\">\n",
              "        <textPath xlink:href=\"#arrow-cf56b0eca632449883a08d945390fe86-0-0\" class=\"displacy-label\" startOffset=\"50%\" side=\"left\" fill=\"currentColor\" text-anchor=\"middle\">det</textPath>\n",
              "    </text>\n",
              "    <path class=\"displacy-arrowhead\" d=\"M70,354.0 L62,342.0 78,342.0\" fill=\"currentColor\"/>\n",
              "</g>\n",
              "\n",
              "<g class=\"displacy-arrow\">\n",
              "    <path class=\"displacy-arc\" id=\"arrow-cf56b0eca632449883a08d945390fe86-0-1\" stroke-width=\"2px\" d=\"M245,352.0 C245,177.0 565.0,177.0 565.0,352.0\" fill=\"none\" stroke=\"currentColor\"/>\n",
              "    <text dy=\"1.25em\" style=\"font-size: 0.8em; letter-spacing: 1px\">\n",
              "        <textPath xlink:href=\"#arrow-cf56b0eca632449883a08d945390fe86-0-1\" class=\"displacy-label\" startOffset=\"50%\" side=\"left\" fill=\"currentColor\" text-anchor=\"middle\">amod</textPath>\n",
              "    </text>\n",
              "    <path class=\"displacy-arrowhead\" d=\"M245,354.0 L237,342.0 253,342.0\" fill=\"currentColor\"/>\n",
              "</g>\n",
              "\n",
              "<g class=\"displacy-arrow\">\n",
              "    <path class=\"displacy-arc\" id=\"arrow-cf56b0eca632449883a08d945390fe86-0-2\" stroke-width=\"2px\" d=\"M420,352.0 C420,264.5 560.0,264.5 560.0,352.0\" fill=\"none\" stroke=\"currentColor\"/>\n",
              "    <text dy=\"1.25em\" style=\"font-size: 0.8em; letter-spacing: 1px\">\n",
              "        <textPath xlink:href=\"#arrow-cf56b0eca632449883a08d945390fe86-0-2\" class=\"displacy-label\" startOffset=\"50%\" side=\"left\" fill=\"currentColor\" text-anchor=\"middle\">amod</textPath>\n",
              "    </text>\n",
              "    <path class=\"displacy-arrowhead\" d=\"M420,354.0 L412,342.0 428,342.0\" fill=\"currentColor\"/>\n",
              "</g>\n",
              "\n",
              "<g class=\"displacy-arrow\">\n",
              "    <path class=\"displacy-arc\" id=\"arrow-cf56b0eca632449883a08d945390fe86-0-3\" stroke-width=\"2px\" d=\"M595,352.0 C595,264.5 735.0,264.5 735.0,352.0\" fill=\"none\" stroke=\"currentColor\"/>\n",
              "    <text dy=\"1.25em\" style=\"font-size: 0.8em; letter-spacing: 1px\">\n",
              "        <textPath xlink:href=\"#arrow-cf56b0eca632449883a08d945390fe86-0-3\" class=\"displacy-label\" startOffset=\"50%\" side=\"left\" fill=\"currentColor\" text-anchor=\"middle\">nsubj</textPath>\n",
              "    </text>\n",
              "    <path class=\"displacy-arrowhead\" d=\"M595,354.0 L587,342.0 603,342.0\" fill=\"currentColor\"/>\n",
              "</g>\n",
              "\n",
              "<g class=\"displacy-arrow\">\n",
              "    <path class=\"displacy-arc\" id=\"arrow-cf56b0eca632449883a08d945390fe86-0-4\" stroke-width=\"2px\" d=\"M770,352.0 C770,264.5 910.0,264.5 910.0,352.0\" fill=\"none\" stroke=\"currentColor\"/>\n",
              "    <text dy=\"1.25em\" style=\"font-size: 0.8em; letter-spacing: 1px\">\n",
              "        <textPath xlink:href=\"#arrow-cf56b0eca632449883a08d945390fe86-0-4\" class=\"displacy-label\" startOffset=\"50%\" side=\"left\" fill=\"currentColor\" text-anchor=\"middle\">prep</textPath>\n",
              "    </text>\n",
              "    <path class=\"displacy-arrowhead\" d=\"M910.0,354.0 L918.0,342.0 902.0,342.0\" fill=\"currentColor\"/>\n",
              "</g>\n",
              "\n",
              "<g class=\"displacy-arrow\">\n",
              "    <path class=\"displacy-arc\" id=\"arrow-cf56b0eca632449883a08d945390fe86-0-5\" stroke-width=\"2px\" d=\"M1120,352.0 C1120,177.0 1440.0,177.0 1440.0,352.0\" fill=\"none\" stroke=\"currentColor\"/>\n",
              "    <text dy=\"1.25em\" style=\"font-size: 0.8em; letter-spacing: 1px\">\n",
              "        <textPath xlink:href=\"#arrow-cf56b0eca632449883a08d945390fe86-0-5\" class=\"displacy-label\" startOffset=\"50%\" side=\"left\" fill=\"currentColor\" text-anchor=\"middle\">det</textPath>\n",
              "    </text>\n",
              "    <path class=\"displacy-arrowhead\" d=\"M1120,354.0 L1112,342.0 1128,342.0\" fill=\"currentColor\"/>\n",
              "</g>\n",
              "\n",
              "<g class=\"displacy-arrow\">\n",
              "    <path class=\"displacy-arc\" id=\"arrow-cf56b0eca632449883a08d945390fe86-0-6\" stroke-width=\"2px\" d=\"M1295,352.0 C1295,264.5 1435.0,264.5 1435.0,352.0\" fill=\"none\" stroke=\"currentColor\"/>\n",
              "    <text dy=\"1.25em\" style=\"font-size: 0.8em; letter-spacing: 1px\">\n",
              "        <textPath xlink:href=\"#arrow-cf56b0eca632449883a08d945390fe86-0-6\" class=\"displacy-label\" startOffset=\"50%\" side=\"left\" fill=\"currentColor\" text-anchor=\"middle\">amod</textPath>\n",
              "    </text>\n",
              "    <path class=\"displacy-arrowhead\" d=\"M1295,354.0 L1287,342.0 1303,342.0\" fill=\"currentColor\"/>\n",
              "</g>\n",
              "\n",
              "<g class=\"displacy-arrow\">\n",
              "    <path class=\"displacy-arc\" id=\"arrow-cf56b0eca632449883a08d945390fe86-0-7\" stroke-width=\"2px\" d=\"M945,352.0 C945,89.5 1445.0,89.5 1445.0,352.0\" fill=\"none\" stroke=\"currentColor\"/>\n",
              "    <text dy=\"1.25em\" style=\"font-size: 0.8em; letter-spacing: 1px\">\n",
              "        <textPath xlink:href=\"#arrow-cf56b0eca632449883a08d945390fe86-0-7\" class=\"displacy-label\" startOffset=\"50%\" side=\"left\" fill=\"currentColor\" text-anchor=\"middle\">pobj</textPath>\n",
              "    </text>\n",
              "    <path class=\"displacy-arrowhead\" d=\"M1445.0,354.0 L1453.0,342.0 1437.0,342.0\" fill=\"currentColor\"/>\n",
              "</g>\n",
              "\n",
              "<g class=\"displacy-arrow\">\n",
              "    <path class=\"displacy-arc\" id=\"arrow-cf56b0eca632449883a08d945390fe86-0-8\" stroke-width=\"2px\" d=\"M1645,352.0 C1645,89.5 2320.0,89.5 2320.0,352.0\" fill=\"none\" stroke=\"currentColor\"/>\n",
              "    <text dy=\"1.25em\" style=\"font-size: 0.8em; letter-spacing: 1px\">\n",
              "        <textPath xlink:href=\"#arrow-cf56b0eca632449883a08d945390fe86-0-8\" class=\"displacy-label\" startOffset=\"50%\" side=\"left\" fill=\"currentColor\" text-anchor=\"middle\">mark</textPath>\n",
              "    </text>\n",
              "    <path class=\"displacy-arrowhead\" d=\"M1645,354.0 L1637,342.0 1653,342.0\" fill=\"currentColor\"/>\n",
              "</g>\n",
              "\n",
              "<g class=\"displacy-arrow\">\n",
              "    <path class=\"displacy-arc\" id=\"arrow-cf56b0eca632449883a08d945390fe86-0-9\" stroke-width=\"2px\" d=\"M1820,352.0 C1820,264.5 1960.0,264.5 1960.0,352.0\" fill=\"none\" stroke=\"currentColor\"/>\n",
              "    <text dy=\"1.25em\" style=\"font-size: 0.8em; letter-spacing: 1px\">\n",
              "        <textPath xlink:href=\"#arrow-cf56b0eca632449883a08d945390fe86-0-9\" class=\"displacy-label\" startOffset=\"50%\" side=\"left\" fill=\"currentColor\" text-anchor=\"middle\">det</textPath>\n",
              "    </text>\n",
              "    <path class=\"displacy-arrowhead\" d=\"M1820,354.0 L1812,342.0 1828,342.0\" fill=\"currentColor\"/>\n",
              "</g>\n",
              "\n",
              "<g class=\"displacy-arrow\">\n",
              "    <path class=\"displacy-arc\" id=\"arrow-cf56b0eca632449883a08d945390fe86-0-10\" stroke-width=\"2px\" d=\"M1995,352.0 C1995,177.0 2315.0,177.0 2315.0,352.0\" fill=\"none\" stroke=\"currentColor\"/>\n",
              "    <text dy=\"1.25em\" style=\"font-size: 0.8em; letter-spacing: 1px\">\n",
              "        <textPath xlink:href=\"#arrow-cf56b0eca632449883a08d945390fe86-0-10\" class=\"displacy-label\" startOffset=\"50%\" side=\"left\" fill=\"currentColor\" text-anchor=\"middle\">nsubj</textPath>\n",
              "    </text>\n",
              "    <path class=\"displacy-arrowhead\" d=\"M1995,354.0 L1987,342.0 2003,342.0\" fill=\"currentColor\"/>\n",
              "</g>\n",
              "\n",
              "<g class=\"displacy-arrow\">\n",
              "    <path class=\"displacy-arc\" id=\"arrow-cf56b0eca632449883a08d945390fe86-0-11\" stroke-width=\"2px\" d=\"M2170,352.0 C2170,264.5 2310.0,264.5 2310.0,352.0\" fill=\"none\" stroke=\"currentColor\"/>\n",
              "    <text dy=\"1.25em\" style=\"font-size: 0.8em; letter-spacing: 1px\">\n",
              "        <textPath xlink:href=\"#arrow-cf56b0eca632449883a08d945390fe86-0-11\" class=\"displacy-label\" startOffset=\"50%\" side=\"left\" fill=\"currentColor\" text-anchor=\"middle\">aux</textPath>\n",
              "    </text>\n",
              "    <path class=\"displacy-arrowhead\" d=\"M2170,354.0 L2162,342.0 2178,342.0\" fill=\"currentColor\"/>\n",
              "</g>\n",
              "\n",
              "<g class=\"displacy-arrow\">\n",
              "    <path class=\"displacy-arc\" id=\"arrow-cf56b0eca632449883a08d945390fe86-0-12\" stroke-width=\"2px\" d=\"M770,352.0 C770,2.0 2325.0,2.0 2325.0,352.0\" fill=\"none\" stroke=\"currentColor\"/>\n",
              "    <text dy=\"1.25em\" style=\"font-size: 0.8em; letter-spacing: 1px\">\n",
              "        <textPath xlink:href=\"#arrow-cf56b0eca632449883a08d945390fe86-0-12\" class=\"displacy-label\" startOffset=\"50%\" side=\"left\" fill=\"currentColor\" text-anchor=\"middle\">advcl</textPath>\n",
              "    </text>\n",
              "    <path class=\"displacy-arrowhead\" d=\"M2325.0,354.0 L2333.0,342.0 2317.0,342.0\" fill=\"currentColor\"/>\n",
              "</g>\n",
              "\n",
              "<g class=\"displacy-arrow\">\n",
              "    <path class=\"displacy-arc\" id=\"arrow-cf56b0eca632449883a08d945390fe86-0-13\" stroke-width=\"2px\" d=\"M2345,352.0 C2345,264.5 2485.0,264.5 2485.0,352.0\" fill=\"none\" stroke=\"currentColor\"/>\n",
              "    <text dy=\"1.25em\" style=\"font-size: 0.8em; letter-spacing: 1px\">\n",
              "        <textPath xlink:href=\"#arrow-cf56b0eca632449883a08d945390fe86-0-13\" class=\"displacy-label\" startOffset=\"50%\" side=\"left\" fill=\"currentColor\" text-anchor=\"middle\">prep</textPath>\n",
              "    </text>\n",
              "    <path class=\"displacy-arrowhead\" d=\"M2485.0,354.0 L2493.0,342.0 2477.0,342.0\" fill=\"currentColor\"/>\n",
              "</g>\n",
              "\n",
              "<g class=\"displacy-arrow\">\n",
              "    <path class=\"displacy-arc\" id=\"arrow-cf56b0eca632449883a08d945390fe86-0-14\" stroke-width=\"2px\" d=\"M2695,352.0 C2695,264.5 2835.0,264.5 2835.0,352.0\" fill=\"none\" stroke=\"currentColor\"/>\n",
              "    <text dy=\"1.25em\" style=\"font-size: 0.8em; letter-spacing: 1px\">\n",
              "        <textPath xlink:href=\"#arrow-cf56b0eca632449883a08d945390fe86-0-14\" class=\"displacy-label\" startOffset=\"50%\" side=\"left\" fill=\"currentColor\" text-anchor=\"middle\">det</textPath>\n",
              "    </text>\n",
              "    <path class=\"displacy-arrowhead\" d=\"M2695,354.0 L2687,342.0 2703,342.0\" fill=\"currentColor\"/>\n",
              "</g>\n",
              "\n",
              "<g class=\"displacy-arrow\">\n",
              "    <path class=\"displacy-arc\" id=\"arrow-cf56b0eca632449883a08d945390fe86-0-15\" stroke-width=\"2px\" d=\"M2520,352.0 C2520,177.0 2840.0,177.0 2840.0,352.0\" fill=\"none\" stroke=\"currentColor\"/>\n",
              "    <text dy=\"1.25em\" style=\"font-size: 0.8em; letter-spacing: 1px\">\n",
              "        <textPath xlink:href=\"#arrow-cf56b0eca632449883a08d945390fe86-0-15\" class=\"displacy-label\" startOffset=\"50%\" side=\"left\" fill=\"currentColor\" text-anchor=\"middle\">pobj</textPath>\n",
              "    </text>\n",
              "    <path class=\"displacy-arrowhead\" d=\"M2840.0,354.0 L2848.0,342.0 2832.0,342.0\" fill=\"currentColor\"/>\n",
              "</g>\n",
              "\n",
              "<g class=\"displacy-arrow\">\n",
              "    <path class=\"displacy-arc\" id=\"arrow-cf56b0eca632449883a08d945390fe86-0-16\" stroke-width=\"2px\" d=\"M3045,352.0 C3045,177.0 3365.0,177.0 3365.0,352.0\" fill=\"none\" stroke=\"currentColor\"/>\n",
              "    <text dy=\"1.25em\" style=\"font-size: 0.8em; letter-spacing: 1px\">\n",
              "        <textPath xlink:href=\"#arrow-cf56b0eca632449883a08d945390fe86-0-16\" class=\"displacy-label\" startOffset=\"50%\" side=\"left\" fill=\"currentColor\" text-anchor=\"middle\">advmod</textPath>\n",
              "    </text>\n",
              "    <path class=\"displacy-arrowhead\" d=\"M3045,354.0 L3037,342.0 3053,342.0\" fill=\"currentColor\"/>\n",
              "</g>\n",
              "\n",
              "<g class=\"displacy-arrow\">\n",
              "    <path class=\"displacy-arc\" id=\"arrow-cf56b0eca632449883a08d945390fe86-0-17\" stroke-width=\"2px\" d=\"M3220,352.0 C3220,264.5 3360.0,264.5 3360.0,352.0\" fill=\"none\" stroke=\"currentColor\"/>\n",
              "    <text dy=\"1.25em\" style=\"font-size: 0.8em; letter-spacing: 1px\">\n",
              "        <textPath xlink:href=\"#arrow-cf56b0eca632449883a08d945390fe86-0-17\" class=\"displacy-label\" startOffset=\"50%\" side=\"left\" fill=\"currentColor\" text-anchor=\"middle\">nsubj</textPath>\n",
              "    </text>\n",
              "    <path class=\"displacy-arrowhead\" d=\"M3220,354.0 L3212,342.0 3228,342.0\" fill=\"currentColor\"/>\n",
              "</g>\n",
              "\n",
              "<g class=\"displacy-arrow\">\n",
              "    <path class=\"displacy-arc\" id=\"arrow-cf56b0eca632449883a08d945390fe86-0-18\" stroke-width=\"2px\" d=\"M3395,352.0 C3395,264.5 3535.0,264.5 3535.0,352.0\" fill=\"none\" stroke=\"currentColor\"/>\n",
              "    <text dy=\"1.25em\" style=\"font-size: 0.8em; letter-spacing: 1px\">\n",
              "        <textPath xlink:href=\"#arrow-cf56b0eca632449883a08d945390fe86-0-18\" class=\"displacy-label\" startOffset=\"50%\" side=\"left\" fill=\"currentColor\" text-anchor=\"middle\">prep</textPath>\n",
              "    </text>\n",
              "    <path class=\"displacy-arrowhead\" d=\"M3535.0,354.0 L3543.0,342.0 3527.0,342.0\" fill=\"currentColor\"/>\n",
              "</g>\n",
              "\n",
              "<g class=\"displacy-arrow\">\n",
              "    <path class=\"displacy-arc\" id=\"arrow-cf56b0eca632449883a08d945390fe86-0-19\" stroke-width=\"2px\" d=\"M3745,352.0 C3745,177.0 4065.0,177.0 4065.0,352.0\" fill=\"none\" stroke=\"currentColor\"/>\n",
              "    <text dy=\"1.25em\" style=\"font-size: 0.8em; letter-spacing: 1px\">\n",
              "        <textPath xlink:href=\"#arrow-cf56b0eca632449883a08d945390fe86-0-19\" class=\"displacy-label\" startOffset=\"50%\" side=\"left\" fill=\"currentColor\" text-anchor=\"middle\">det</textPath>\n",
              "    </text>\n",
              "    <path class=\"displacy-arrowhead\" d=\"M3745,354.0 L3737,342.0 3753,342.0\" fill=\"currentColor\"/>\n",
              "</g>\n",
              "\n",
              "<g class=\"displacy-arrow\">\n",
              "    <path class=\"displacy-arc\" id=\"arrow-cf56b0eca632449883a08d945390fe86-0-20\" stroke-width=\"2px\" d=\"M3920,352.0 C3920,264.5 4060.0,264.5 4060.0,352.0\" fill=\"none\" stroke=\"currentColor\"/>\n",
              "    <text dy=\"1.25em\" style=\"font-size: 0.8em; letter-spacing: 1px\">\n",
              "        <textPath xlink:href=\"#arrow-cf56b0eca632449883a08d945390fe86-0-20\" class=\"displacy-label\" startOffset=\"50%\" side=\"left\" fill=\"currentColor\" text-anchor=\"middle\">amod</textPath>\n",
              "    </text>\n",
              "    <path class=\"displacy-arrowhead\" d=\"M3920,354.0 L3912,342.0 3928,342.0\" fill=\"currentColor\"/>\n",
              "</g>\n",
              "\n",
              "<g class=\"displacy-arrow\">\n",
              "    <path class=\"displacy-arc\" id=\"arrow-cf56b0eca632449883a08d945390fe86-0-21\" stroke-width=\"2px\" d=\"M3570,352.0 C3570,89.5 4070.0,89.5 4070.0,352.0\" fill=\"none\" stroke=\"currentColor\"/>\n",
              "    <text dy=\"1.25em\" style=\"font-size: 0.8em; letter-spacing: 1px\">\n",
              "        <textPath xlink:href=\"#arrow-cf56b0eca632449883a08d945390fe86-0-21\" class=\"displacy-label\" startOffset=\"50%\" side=\"left\" fill=\"currentColor\" text-anchor=\"middle\">pobj</textPath>\n",
              "    </text>\n",
              "    <path class=\"displacy-arrowhead\" d=\"M4070.0,354.0 L4078.0,342.0 4062.0,342.0\" fill=\"currentColor\"/>\n",
              "</g>\n",
              "\n",
              "<g class=\"displacy-arrow\">\n",
              "    <path class=\"displacy-arc\" id=\"arrow-cf56b0eca632449883a08d945390fe86-0-22\" stroke-width=\"2px\" d=\"M4270,352.0 C4270,177.0 4765.0,177.0 4765.0,352.0\" fill=\"none\" stroke=\"currentColor\"/>\n",
              "    <text dy=\"1.25em\" style=\"font-size: 0.8em; letter-spacing: 1px\">\n",
              "        <textPath xlink:href=\"#arrow-cf56b0eca632449883a08d945390fe86-0-22\" class=\"displacy-label\" startOffset=\"50%\" side=\"left\" fill=\"currentColor\" text-anchor=\"middle\">mark</textPath>\n",
              "    </text>\n",
              "    <path class=\"displacy-arrowhead\" d=\"M4270,354.0 L4262,342.0 4278,342.0\" fill=\"currentColor\"/>\n",
              "</g>\n",
              "\n",
              "<g class=\"displacy-arrow\">\n",
              "    <path class=\"displacy-arc\" id=\"arrow-cf56b0eca632449883a08d945390fe86-0-23\" stroke-width=\"2px\" d=\"M4445,352.0 C4445,264.5 4585.0,264.5 4585.0,352.0\" fill=\"none\" stroke=\"currentColor\"/>\n",
              "    <text dy=\"1.25em\" style=\"font-size: 0.8em; letter-spacing: 1px\">\n",
              "        <textPath xlink:href=\"#arrow-cf56b0eca632449883a08d945390fe86-0-23\" class=\"displacy-label\" startOffset=\"50%\" side=\"left\" fill=\"currentColor\" text-anchor=\"middle\">det</textPath>\n",
              "    </text>\n",
              "    <path class=\"displacy-arrowhead\" d=\"M4445,354.0 L4437,342.0 4453,342.0\" fill=\"currentColor\"/>\n",
              "</g>\n",
              "\n",
              "<g class=\"displacy-arrow\">\n",
              "    <path class=\"displacy-arc\" id=\"arrow-cf56b0eca632449883a08d945390fe86-0-24\" stroke-width=\"2px\" d=\"M4620,352.0 C4620,264.5 4760.0,264.5 4760.0,352.0\" fill=\"none\" stroke=\"currentColor\"/>\n",
              "    <text dy=\"1.25em\" style=\"font-size: 0.8em; letter-spacing: 1px\">\n",
              "        <textPath xlink:href=\"#arrow-cf56b0eca632449883a08d945390fe86-0-24\" class=\"displacy-label\" startOffset=\"50%\" side=\"left\" fill=\"currentColor\" text-anchor=\"middle\">nsubj</textPath>\n",
              "    </text>\n",
              "    <path class=\"displacy-arrowhead\" d=\"M4620,354.0 L4612,342.0 4628,342.0\" fill=\"currentColor\"/>\n",
              "</g>\n",
              "\n",
              "<g class=\"displacy-arrow\">\n",
              "    <path class=\"displacy-arc\" id=\"arrow-cf56b0eca632449883a08d945390fe86-0-25\" stroke-width=\"2px\" d=\"M3395,352.0 C3395,2.0 4775.0,2.0 4775.0,352.0\" fill=\"none\" stroke=\"currentColor\"/>\n",
              "    <text dy=\"1.25em\" style=\"font-size: 0.8em; letter-spacing: 1px\">\n",
              "        <textPath xlink:href=\"#arrow-cf56b0eca632449883a08d945390fe86-0-25\" class=\"displacy-label\" startOffset=\"50%\" side=\"left\" fill=\"currentColor\" text-anchor=\"middle\">advcl</textPath>\n",
              "    </text>\n",
              "    <path class=\"displacy-arrowhead\" d=\"M4775.0,354.0 L4783.0,342.0 4767.0,342.0\" fill=\"currentColor\"/>\n",
              "</g>\n",
              "\n",
              "<g class=\"displacy-arrow\">\n",
              "    <path class=\"displacy-arc\" id=\"arrow-cf56b0eca632449883a08d945390fe86-0-26\" stroke-width=\"2px\" d=\"M4970,352.0 C4970,264.5 5110.0,264.5 5110.0,352.0\" fill=\"none\" stroke=\"currentColor\"/>\n",
              "    <text dy=\"1.25em\" style=\"font-size: 0.8em; letter-spacing: 1px\">\n",
              "        <textPath xlink:href=\"#arrow-cf56b0eca632449883a08d945390fe86-0-26\" class=\"displacy-label\" startOffset=\"50%\" side=\"left\" fill=\"currentColor\" text-anchor=\"middle\">advmod</textPath>\n",
              "    </text>\n",
              "    <path class=\"displacy-arrowhead\" d=\"M4970,354.0 L4962,342.0 4978,342.0\" fill=\"currentColor\"/>\n",
              "</g>\n",
              "\n",
              "<g class=\"displacy-arrow\">\n",
              "    <path class=\"displacy-arc\" id=\"arrow-cf56b0eca632449883a08d945390fe86-0-27\" stroke-width=\"2px\" d=\"M4795,352.0 C4795,177.0 5115.0,177.0 5115.0,352.0\" fill=\"none\" stroke=\"currentColor\"/>\n",
              "    <text dy=\"1.25em\" style=\"font-size: 0.8em; letter-spacing: 1px\">\n",
              "        <textPath xlink:href=\"#arrow-cf56b0eca632449883a08d945390fe86-0-27\" class=\"displacy-label\" startOffset=\"50%\" side=\"left\" fill=\"currentColor\" text-anchor=\"middle\">acomp</textPath>\n",
              "    </text>\n",
              "    <path class=\"displacy-arrowhead\" d=\"M5115.0,354.0 L5123.0,342.0 5107.0,342.0\" fill=\"currentColor\"/>\n",
              "</g>\n",
              "</svg></span>"
            ]
          },
          "metadata": {}
        }
      ]
    },
    {
      "cell_type": "markdown",
      "source": [
        "### **Stopwords**"
      ],
      "metadata": {
        "id": "LCJZiyXHUu9p"
      }
    },
    {
      "cell_type": "code",
      "source": [
        "from spacy.lang.en.stop_words import STOP_WORDS"
      ],
      "metadata": {
        "id": "5urpKihxQfpe"
      },
      "execution_count": null,
      "outputs": []
    },
    {
      "cell_type": "code",
      "source": [
        "print(STOP_WORDS)"
      ],
      "metadata": {
        "colab": {
          "base_uri": "https://localhost:8080/"
        },
        "collapsed": true,
        "id": "RHc5ltDPWC0G",
        "outputId": "93a3cb1e-63df-437c-dff2-bc6119954d77"
      },
      "execution_count": null,
      "outputs": [
        {
          "output_type": "stream",
          "name": "stdout",
          "text": [
            "{'have', 'already', 'most', 'cannot', 'are', 'his', 'why', 'therefore', 'namely', 'ever', 'her', 'whenever', 'once', 'wherever', 'move', 'back', 'formerly', 'what', 'over', 'him', 'noone', 'never', 'does', 'being', 'enough', 'for', 'that', 'together', '‘re', 'each', 'ourselves', 'seeming', 'seems', \"'m\", 'whereby', 'say', 'hereupon', 'always', 'very', 'really', 'to', \"'s\", 'between', 'but', 'along', 'be', 'often', 'using', 'she', 'former', 'empty', 'thus', 'call', 'anywhere', 'except', 'please', 'show', 'sixty', 'anyone', 'something', 'out', 'anything', 'go', 'whereafter', 'whereas', 'itself', 'fifteen', 'six', 'will', 'twelve', 'another', 'regarding', 'give', 'thereby', 'by', 'beside', 'everything', 'mine', 'alone', 'own', 'done', 'some', 'hundred', 'against', 'whence', 'without', 'take', 'anyhow', 'made', '’d', 'elsewhere', 'few', 'less', 'might', 'behind', 'up', 'toward', 'again', 'various', 'off', \"'d\", 'among', 'others', 'herein', 'ca', 'from', 'front', 'when', 'above', 'myself', 'becoming', 'if', 'your', 'nothing', 'so', 'every', 'may', 'whither', 'indeed', 'side', 'almost', 'much', 'eight', 'there', 'doing', 'had', '‘s', 'yourself', 'under', '‘d', 'now', 'get', 'of', 'or', 'such', 'latter', 'any', 'those', 'down', 'latterly', 'me', 'sometime', 'this', 'per', 'many', 'however', 'yours', \"'re\", 'hereby', '’m', 'due', 'n‘t', 'until', 'could', 'as', 'least', 'ours', 'these', 'also', 'sometimes', 'used', 'more', 'on', 'someone', 'therein', '‘ll', 'moreover', 'become', 'via', 'them', 'whole', 'he', 'themselves', 'around', 'keep', 'while', 'ten', 'thence', 'with', 'part', 'anyway', 'fifty', 'towards', 'else', 'meanwhile', 'nowhere', 'mostly', 'n’t', 'herself', 'then', 'an', 'would', 'they', 'last', 'across', 'everyone', 'beforehand', 'must', 'full', 'before', 'no', 'afterwards', 'nine', 'nevertheless', '‘m', 'whereupon', 'has', 'make', 'about', 'otherwise', 'see', 'within', 'wherein', 'our', 'is', 'well', 'where', 'a', 'five', 'here', 'top', 'whose', 'bottom', 'one', 'third', 'into', '’ve', 'name', 'us', 'both', 'forty', 'first', 'do', '‘ve', 'hereafter', 'several', 'twenty', 'amount', 'two', \"n't\", 'further', 'onto', 'which', '’ll', 'unless', 'next', 'their', 'were', \"'ll\", 'been', 're', 'because', 'whatever', 'either', 'upon', 'only', 'none', 'i', 'whoever', 'himself', 'at', 'not', 'rather', 'seemed', 'hence', 'than', 'just', 'other', 'below', 'my', 'can', 'all', 'although', 'same', 'three', 'beyond', 'though', 'nobody', 'became', '’s', 'its', 'am', 'since', 'still', 'somehow', 'in', 'who', 'after', 'how', 'yourselves', 'hers', 'becomes', 'thru', 'it', 'quite', 'and', 'the', 'thereafter', 'seem', 'serious', 'during', 'throughout', 'did', 'eleven', \"'ve\", 'somewhere', 'everywhere', 'should', 'yet', 'we', 'even', 'besides', 'four', 'perhaps', 'whether', 'amongst', 'whom', 'you', 'thereupon', 'was', 'too', 'put', '’re', 'neither', 'nor', 'through'}\n"
          ]
        }
      ]
    },
    {
      "cell_type": "code",
      "source": [
        "doc=nlp('Natural Language Processing is a field of Artificial Intelligence that focuses on the interaction between computers and human language. It helps machines understand, interpret, and generate text in a meaningful way')"
      ],
      "metadata": {
        "id": "4DQWObXdWUps"
      },
      "execution_count": null,
      "outputs": []
    },
    {
      "cell_type": "code",
      "source": [
        "# for token in doc:\n",
        "#   if token.text not in STOP_WORDS:\n",
        "#     print(token.text)\n",
        "\n",
        "for token in doc:\n",
        "  if not token.is_stop:\n",
        "    print(token.text)"
      ],
      "metadata": {
        "colab": {
          "base_uri": "https://localhost:8080/"
        },
        "id": "nGYZJRufXvPa",
        "outputId": "f0a086d2-0169-4d8d-e2c4-8bfa7e2ac801"
      },
      "execution_count": null,
      "outputs": [
        {
          "output_type": "stream",
          "name": "stdout",
          "text": [
            "Natural\n",
            "Language\n",
            "Processing\n",
            "field\n",
            "Artificial\n",
            "Intelligence\n",
            "focuses\n",
            "interaction\n",
            "computers\n",
            "human\n",
            "language\n",
            ".\n",
            "helps\n",
            "machines\n",
            "understand\n",
            ",\n",
            "interpret\n",
            ",\n",
            "generate\n",
            "text\n",
            "meaningful\n",
            "way\n"
          ]
        }
      ]
    },
    {
      "cell_type": "markdown",
      "source": [
        "### **Lemmatization**"
      ],
      "metadata": {
        "id": "dyhOVZLnl5-3"
      }
    },
    {
      "cell_type": "code",
      "source": [
        "doc=nlp('The children were playing happily in the gardens while their parents watched from the benches. Later, they carried their toys home.')"
      ],
      "metadata": {
        "id": "3BzBxGM9mRKP"
      },
      "execution_count": null,
      "outputs": []
    },
    {
      "cell_type": "code",
      "source": [
        "result_inwords=[]\n",
        "result=[]\n",
        "for token in doc:\n",
        "  result_inwords.append(token.lemma_)"
      ],
      "metadata": {
        "id": "fuUmGqX4mfiE"
      },
      "execution_count": null,
      "outputs": []
    },
    {
      "cell_type": "code",
      "source": [
        "print(result_inwords)"
      ],
      "metadata": {
        "colab": {
          "base_uri": "https://localhost:8080/"
        },
        "id": "L9BRgMNIpXTA",
        "outputId": "83fafca7-6507-455d-acb7-8fdcdcc9b961"
      },
      "execution_count": null,
      "outputs": [
        {
          "output_type": "stream",
          "name": "stdout",
          "text": [
            "['the', 'child', 'be', 'play', 'happily', 'in', 'the', 'garden', 'while', 'their', 'parent', 'watch', 'from', 'the', 'bench', '.', 'later', ',', 'they', 'carry', 'their', 'toy', 'home', '.']\n"
          ]
        }
      ]
    },
    {
      "cell_type": "markdown",
      "source": [
        "### **Word Similarity**"
      ],
      "metadata": {
        "id": "BiVzDKLxqeQk"
      }
    },
    {
      "cell_type": "code",
      "source": [
        "doc1=nlp(\"King\")\n",
        "doc2=nlp('queen')\n",
        "doc3=nlp('cat')\n",
        "doc4=nlp('dog')\n",
        "doc5=nlp('hello I am Person A')\n",
        "doc6=nlp('hi I am Person B nice to meet you')"
      ],
      "metadata": {
        "id": "-uszWtaZq8fq"
      },
      "execution_count": null,
      "outputs": []
    },
    {
      "cell_type": "code",
      "source": [
        "print(doc1.similarity(doc2))"
      ],
      "metadata": {
        "colab": {
          "base_uri": "https://localhost:8080/"
        },
        "id": "NMptH5Z3tgs1",
        "outputId": "4735c850-52c0-4f4a-fe49-1e9d3f9c0852"
      },
      "execution_count": null,
      "outputs": [
        {
          "output_type": "stream",
          "name": "stdout",
          "text": [
            "0.3337050974369049\n"
          ]
        },
        {
          "output_type": "stream",
          "name": "stderr",
          "text": [
            "/tmp/ipython-input-32-1832338119.py:1: UserWarning: [W007] The model you're using has no word vectors loaded, so the result of the Doc.similarity method will be based on the tagger, parser and NER, which may not give useful similarity judgements. This may happen if you're using one of the small models, e.g. `en_core_web_sm`, which don't ship with word vectors and only use context-sensitive tensors. You can always add your own word vectors, or use one of the larger models instead if available.\n",
            "  print(doc1.similarity(doc2))\n"
          ]
        }
      ]
    },
    {
      "cell_type": "code",
      "source": [
        "print(doc3.similarity(doc4))"
      ],
      "metadata": {
        "colab": {
          "base_uri": "https://localhost:8080/"
        },
        "id": "IGwGGLxRuCt0",
        "outputId": "82c1d90c-6d24-4803-e602-0efcc63f3fdd"
      },
      "execution_count": null,
      "outputs": [
        {
          "output_type": "stream",
          "name": "stdout",
          "text": [
            "0.7422727346420288\n"
          ]
        },
        {
          "output_type": "stream",
          "name": "stderr",
          "text": [
            "/tmp/ipython-input-34-1415548098.py:1: UserWarning: [W007] The model you're using has no word vectors loaded, so the result of the Doc.similarity method will be based on the tagger, parser and NER, which may not give useful similarity judgements. This may happen if you're using one of the small models, e.g. `en_core_web_sm`, which don't ship with word vectors and only use context-sensitive tensors. You can always add your own word vectors, or use one of the larger models instead if available.\n",
            "  print(doc3.similarity(doc4))\n"
          ]
        }
      ]
    },
    {
      "cell_type": "code",
      "source": [
        "print(doc5.similarity(doc6))"
      ],
      "metadata": {
        "colab": {
          "base_uri": "https://localhost:8080/"
        },
        "id": "hD9qSgb6uso1",
        "outputId": "c1748596-852b-494f-a2be-5837fe4e488d"
      },
      "execution_count": null,
      "outputs": [
        {
          "output_type": "stream",
          "name": "stdout",
          "text": [
            "0.7335296273231506\n"
          ]
        },
        {
          "output_type": "stream",
          "name": "stderr",
          "text": [
            "/tmp/ipython-input-37-2177909304.py:1: UserWarning: [W007] The model you're using has no word vectors loaded, so the result of the Doc.similarity method will be based on the tagger, parser and NER, which may not give useful similarity judgements. This may happen if you're using one of the small models, e.g. `en_core_web_sm`, which don't ship with word vectors and only use context-sensitive tensors. You can always add your own word vectors, or use one of the larger models instead if available.\n",
            "  print(doc5.similarity(doc6))\n"
          ]
        }
      ]
    },
    {
      "cell_type": "markdown",
      "source": [
        "### **Custom Tokenization**"
      ],
      "metadata": {
        "id": "wcjw4eF7FPPQ"
      }
    },
    {
      "cell_type": "code",
      "source": [
        "doc=nlp('Dr.Strange tweeted: “AI-powered tools are evolving fast! #GenAI is trending in U.S.A. – even Elon.Musk commented on it.” Meanwhile, users on Reddit/Discord are debating if A.I.-generated art should be allowed in competitions.')"
      ],
      "metadata": {
        "id": "kPn-KWycHlWv"
      },
      "execution_count": null,
      "outputs": []
    },
    {
      "cell_type": "code",
      "source": [
        "infix=nlp.Defaults.infixes\n",
        "infix=[x for x in infix if x!=r\"(?<=[a-zA-Z])\\.(?=[a-zA-Z])\"]\n",
        "infix_new=compile_infix_regex(infix)"
      ],
      "metadata": {
        "id": "qXTBNtukIKN9"
      },
      "execution_count": null,
      "outputs": []
    },
    {
      "cell_type": "code",
      "source": [
        "from sys import prefix\n",
        "nlp.tokenizer=Tokenizer(nlp.vocab,prefix_search=nlp.tokenizer.prefix_search,suffix_search=nlp.tokenizer.suffix_search,infix_finditer=infix_new.finditer)"
      ],
      "metadata": {
        "id": "lUyZnPh9KXsX"
      },
      "execution_count": null,
      "outputs": []
    },
    {
      "cell_type": "code",
      "source": [
        "for token in doc:\n",
        "  print(token.text)"
      ],
      "metadata": {
        "colab": {
          "base_uri": "https://localhost:8080/"
        },
        "id": "fhWBJ7hEJcOV",
        "outputId": "d423895e-0b69-4ff8-c11c-53675c97ba49"
      },
      "execution_count": null,
      "outputs": [
        {
          "output_type": "stream",
          "name": "stdout",
          "text": [
            "Dr\n",
            ".\n",
            "Strange\n",
            "tweeted:\n",
            "“AI\n",
            "-\n",
            "powered\n",
            "tools\n",
            "are\n",
            "evolving\n",
            "fast!\n",
            "#GenAI\n",
            "is\n",
            "trending\n",
            "in\n",
            "U.S.A.\n",
            "–\n",
            "even\n",
            "Elon\n",
            ".\n",
            "Musk\n",
            "commented\n",
            "on\n",
            "it\n",
            ".\n",
            "”\n",
            "Meanwhile,\n",
            "users\n",
            "on\n",
            "Reddit\n",
            "/\n",
            "Discord\n",
            "are\n",
            "debating\n",
            "if\n",
            "A.I.-generated\n",
            "art\n",
            "should\n",
            "be\n",
            "allowed\n",
            "in\n",
            "competitions.\n"
          ]
        }
      ]
    },
    {
      "cell_type": "markdown",
      "source": [
        "### **Frequency Count with Goose**"
      ],
      "metadata": {
        "id": "BZ9mJFnIje4c"
      }
    },
    {
      "cell_type": "code",
      "source": [
        "g=Goose()\n",
        "url='https://en.wikipedia.org/wiki/Artificial_intelligence'\n",
        "article=g.extract(url)"
      ],
      "metadata": {
        "id": "aigx1irjj9iB"
      },
      "execution_count": null,
      "outputs": []
    },
    {
      "cell_type": "code",
      "source": [
        "doc=nlp(article.cleaned_text)"
      ],
      "metadata": {
        "id": "0VcBYJdvlEVI"
      },
      "execution_count": null,
      "outputs": []
    },
    {
      "cell_type": "code",
      "source": [
        "data=[token.text for token in doc]\n",
        "freq=Counter(data)"
      ],
      "metadata": {
        "id": "iNRErMArlSeR"
      },
      "execution_count": null,
      "outputs": []
    },
    {
      "cell_type": "code",
      "source": [
        "print(freq)"
      ],
      "metadata": {
        "colab": {
          "base_uri": "https://localhost:8080/"
        },
        "id": "txlYdOWynXJE",
        "outputId": "9aa7d032-7c1d-4edb-e2bf-16ee09e3874c"
      },
      "execution_count": null,
      "outputs": [
        {
          "output_type": "stream",
          "name": "stdout",
          "text": [
            "Counter({',': 775, 'the': 537, 'and': 434, 'of': 383, 'to': 349, '.': 341, ']': 289, '\"': 258, 'AI': 226, 'in': 225, 'a': 218, 'that': 196, '\\n\\n': 172, '-': 153, 'is': 152, 'as': 127, 'for': 118, '(': 113, 'are': 103, 'by': 96, ')': 93, 'be': 91, 'or': 83, 'can': 80, 'The': 78, 'with': 73, 'it': 69, 'on': 68, 'In': 61, 'intelligence': 59, 'used': 59, 'learning': 57, 'such': 56, 'from': 55, 'have': 51, 'not': 49, \"'s\": 49, 'data': 49, 'human': 44, 'an': 44, 'was': 42, 'has': 41, 'their': 39, 'they': 37, 'will': 36, 'machine': 36, 'been': 34, 'other': 33, 'problems': 33, 'use': 32, 'artificial': 32, 'which': 31, 'research': 29, 'models': 29, 'at': 29, 'power': 29, 'many': 28, 'may': 28, 'this': 26, '%': 26, 'problem': 25, ':': 25, 'most': 25, 'if': 25, 'reasoning': 24, 'neural': 24, 'also': 24, 'about': 24, 'were': 24, 'what': 24, 'more': 24, 'search': 23, 'but': 23, 'knowledge': 22, 'networks': 22, 'these': 21, 'including': 21, 'language': 20, 'A': 20, 'large': 20, 'some': 20, 'would': 20, 'than': 20, 'systems': 19, 'It': 19, 'This': 19, 'make': 19, '2024': 19, 'decision': 18, 'applications': 18, ';': 18, 'researchers': 18, \"'\": 18, 'called': 17, 'based': 17, 'developed': 17, 'using': 17, 'nuclear': 17, 'field': 16, 'computer': 16, 'include': 16, 'into': 16, 'logic': 16, 'solve': 16, 'information': 16, 'could': 16, 'world': 16, 'program': 16, 'people': 16, 'agent': 16, 'agents': 16, '–': 16, 'goals': 15, 'Google': 15, 'its': 15, 'programs': 15, 'trained': 15, 'example': 15, 'Artificial': 14, 'e.g.': 14, 'tools': 14, 'general': 14, 'processing': 14, 'companies': 14, 'technology': 14, 'system': 14, 'between': 14, 'specific': 14, 'possible': 14, 'had': 14, '2023': 14, 'like': 14, 'risks': 13, 'algorithms': 13, 'real': 13, 'There': 13, 'them': 13, 'For': 13, 'first': 13, 'machines': 12, 'generative': 12, 'well': 12, 'when': 12, 'deep': 12, 'ability': 12, 'several': 12, 'These': 12, 'intelligent': 12, 'They': 12, 'early': 12, 'all': 12, 'so': 12, 'decisions': 12, 'training': 12, 'where': 12, 'one': 12, 'new': 12, 'U.S.': 12, '\\n': 12, '•': 12, 'tasks': 11, 'making': 11, 'methods': 11, 'autonomous': 11, 'However': 11, 'mathematical': 11, 'through': 11, 'ethical': 11, 'potential': 11, 'humans': 11, 'model': 11, 'even': 11, 'symbolic': 11, 'how': 11, 'action': 11, 'process': 11, 'two': 11, 'only': 11, 'rather': 11, 'fairness': 11, '2022': 11, 'risk': 11, 'mind': 11, 'solving': 10, 'being': 10, 'because': 10, 'term': 10, 'each': 10, 'then': 10, 'theory': 10, 'future': 10, 'question': 10, 'important': 10, 'US': 10, 'whether': 10, 'typically': 9, 'Go': 9, 'any': 9, 'became': 9, 'set': 9, 'difficult': 9, 'there': 9, 'improve': 9, 'way': 9, 'patterns': 9, 'should': 9, 'began': 9, 'computing': 9, 'goal': 9, 'solutions': 9, 'both': 9, 'Turing': 9, 'network': 9, 'identify': 9, 'who': 9, 'development': 9, '2016': 9, 'energy': 9, 'actions': 8, 'defined': 8, 'Amazon': 8, 'known': 8, 'after': 8, 'form': 8, 'number': 8, 'space': 8, 'study': 8, 'Deep': 8, 'able': 8, 'uses': 8, 'different': 8, 'local': 8, 'find': 8, 'time': 8, 'widely': 8, 'layers': 8, 'increase': 8, 'scale': 8, 'Microsoft': 8, 'capable': 8, 'available': 8, 'experts': 8, 'do': 8, 'centers': 8, 'no': 8, 'misinformation': 8, 'does': 8, 'Intelligence': 8, 'computational': 7, 'perception': 7, 'software': 7, 'take': 7, 'analysis': 7, 'often': 7, 'without': 7, 'particular': 7, 'planning': 7, 'techniques': 7, 'funding': 7, 'content': 7, 'step': 7, 'we': 7, 'choose': 7, 'must': 7, 'especially': 7, 'learned': 7, 'while': 7, 'state': 7, 'behavior': 7, 'performance': 7, 'makes': 7, 'learn': 7, 'input': 7, 'bad': 7, 'recognition': 7, 'work': 7, 'level': 7, 'playing': 7, 'order': 7, 'require': 7, 'over': 7, 'output': 7, 'medical': 7, 'privacy': 7, 're': 7, 'same': 7, 'argued': 7, 'United': 7, 'high': 7, 'rights': 7, 'science': 6, 'philosophy': 6, 'Some': 6, 'DeepMind': 6, 'become': 6, 'body': 6, 'need': 6, 'situations': 6, 'states': 6, 'person': 6, 'sub': 6, '—': 6, 'measures': 6, 'exactly': 6, 'certain': 6, 'see': 6, 'cost': 6, 'policy': 6, 'Machine': 6, 'given': 6, 'part': 6, 'inspired': 6, 'GPT': 6, 'test': 6, 'users': 6, 'game': 6, 'solution': 6, 'Another': 6, 'processes': 6, 'nodes': 6, 'programming': 6, 'designed': 6, 'those': 6, 'right': 6, 'during': 6, 'technique': 6, 'outputs': 6, 'eventually': 6, 'others': 6, 'amounts': 6, 'online': 6, 'since': 6, 'jobs': 6, 'bias': 6, 'Energy': 6, 'electric': 6, 'emissions': 6, 'plant': 6, 'actors': 6, 'European': 6, 'issue': 6, 'easy': 6, 'feel': 6, 'environment': 5, 'advanced': 5, 'virtual': 5, 'assistants': 5, 'chess': 5, 'once': 5, 'becomes': 5, 'useful': 5, 'common': 5, 'natural': 5, 'reach': 5, 'optimization': 5, 'formal': 5, 'academic': 5, 'growth': 5, '2017': 5, '2020s': 5, 'led': 5, 'existential': 5, 'safety': 5, 'creating': 5, 'described': 5, 'By': 5, 'late': 5, 'uncertain': 5, 'Many': 5, 'facts': 5, 'discovery': 5, 'areas': 5, 'objects': 5, 'know': 5, 'true': 5, 'much': 5, 'difficulty': 5, 'expected': 5, 'reinforcement': 5, 'type': 5, 'inputs': 5, 'understanding': 5, 'pre': 5, 'text': 5, 'analyze': 5, 'simulate': 5, 'related': 5, 'similar': 5, 'tree': 5, 'help': 5, 'algorithm': 5, 'statement': 5, 'up': 5, '2': 5, 'better': 5, 'image': 5, 'relevant': 5, 'success': 5, 'services': 5, 'images': 5, '2010s': 5, 'sometimes': 5, 'application': 5, 'reported': 5, 'introduced': 5, 'open': 5, 'showed': 5, 'proposed': 5, 'According': 5, 'argues': 5, 'countries': 5, 'technologies': 5, 'provide': 5, 'generation': 5, 'US$': 5, 'ethics': 5, 'surveillance': 5, 'leading': 5, 'developers': 5, 'argue': 5, 'works': 5, 'approach': 5, 'released': 5, 'produced': 5, 'years': 5, 'If': 5, 'government': 5, 'public': 5, 'among': 5, 'race': 5, 'past': 5, 'actually': 5, 'Union': 5, 'approaches': 5, 'humanity': 5, 'Russell': 5, 'physical': 5, 'his': 5, 'laws': 5, 'maximize': 4, 'vehicles': 4, 'strategy': 4, 'games': 4, 'representation': 4, 'support': 4, 'range': 4, 'operations': 4, 'upon': 4, 'OpenAI': 4, 'create': 4, 'task': 4, 'founded': 4, 'multiple': 4, 'interest': 4, 'increased': 4, 'previous': 4, 'further': 4, 'concerns': 4, 'long': 4, 'effects': 4, 'regulatory': 4, 'ensure': 4, 'capabilities': 4, '1980s': 4, 'incomplete': 4, 'concepts': 4, 'probability': 4, 'experience': 4, 'allow': 4, 'An': 4, 'things': 4, 'until': 4, 'domains': 4, 'anything': 4, 'situation': 4, 'utility': 4, 'outcome': 4, 'however': 4, 'value': 4, 'function': 4, 'requires': 4, 'main': 4, 'classification': 4, 'predict': 4, 'types': 4, 'notions': 4, 'speech': 4, 'word': 4, 'sense': 4, 'due': 4, 'generate': 4, 'get': 4, 'sensors': 4, 'very': 4, 'target': 4, 'means': 4, 'likely': 4, 'computation': 4, 'popular': 4, 'proving': 4, 'premises': 4, 'Other': 4, 'complex': 4, 'robotics': 4, 'thus': 4, 'fine': 4, 'observation': 4, 'class': 4, 'neurons': 4, 'brain': 4, 'next': 4, 'simple': 4, 'higher': 4, '2021': 4, 'did': 4, 'far': 4, 'vast': 4, 'commercial': 4, 'founder': 4, 'identified': 4, 'CEO': 4, 'Facebook': 4, 'self': 4, 'Apple': 4, 'suggested': 4, 'show': 4, 'significant': 4, 'out': 4, 'produce': 4, 'low': 4, 'define': 4, 'directly': 4, 'results': 4, 'robot': 4, 'products': 4, 'He': 4, 'control': 4, 'achieve': 4, 'within': 4, 'user': 4, 'generated': 4, 'successful': 4, 'survey': 4, 'social': 4, 'robots': 4, 'classify': 4, 'million': 4, 'notably': 4, 'society': 4, 'necessary': 4, 'view': 4, 'terms': 4, 'under': 4, 'own': 4, 'report': 4, 'consumption': 4, 'might': 4, 'electricity': 4, 'electrical': 4, 'grid': 4, 'found': 4, 'estimated': 4, 'billion': 4, 'Japan': 4, 'November': 4, 'authoritarian': 4, '2015': 4, 'feature': 4, 'black': 4, 'COMPAS': 4, 'impossible': 4, 'recommendations': 4, 'explain': 4, 'passed': 4, 'asthma': 4, 'governments': 4, '2020': 4, 'design': 4, 'agree': 4, 'benefit': 4, 'fiction': 4, 'consciousness': 4, 'superintelligence': 4, 'principles': 4, 'projects': 4, 'adopted': 4, 'created': 4, 'agreed': 4, '1960s': 4, 'conscious': 4, 'definition': 4, 'beings': 4, 'studies': 3, 'perceive': 3, 'YouTube': 3, 'something': 3, 'enough': 3, 'Various': 3, 'around': 3, 'integrated': 3, 'wide': 3, 'aim': 3, 'least': 3, 'throughout': 3, 'loss': 3, 'graphics': 3, 'units': 3, 'architecture': 3, 'boom': 3, 'Generative': 3, 'discussions': 3, 'benefits': 3, 'received': 3, 'Early': 3, 'logical': 3, '1990s': 3, 'rarely': 3, 'efficient': 3, 'Formal': 3, 'relations': 3, 'domain': 3, 'commonsense': 3, 'knows': 3, 'statements': 3, 'obtaining': 3, 'preferences': 3, 'automated': 3, 'outcomes': 3, 'occur': 3, 'effect': 3, 'experimental': 3, 'evaluate': 3, 'Markov': 3, 'describes': 3, 'kinds': 3, 'predictions': 3, 'labeling': 3, 'answers': 3, 'deduce': 3, 'good': 3, 'classified': 3, 'required': 3, 'allows': 3, 'small': 3, 'meaning': 3, 'languages': 3, 'structure': 3, 'Modern': 3, 'transformers': 3, '2019': 3, 'signals': 3, 'vision': 3, 'sensitive': 3, 'variety': 3, 'result': 3, 'too': 3, 'rules': 3, 'choices': 3, 'backpropagation': 3, 'swarm': 3, 'proof': 3, 'labelled': 3, 'inference': 3, 'Horn': 3, 'free': 3, 'therefore': 3, '1': 3, 'handle': 3, 'specialized': 3, 'operate': 3, 'Bayesian': 3, 'hidden': 3, 'classifiers': 3, 'hand': 3, 'pattern': 3, 'determine': 3, 'match': 3, 'tuned': 3, 'examples': 3, 'layer': 3, 'weight': 3, 'relationships': 3, 'back': 3, 'short': 3, 'less': 3, 'features': 3, 'improved': 3, 'GPUs': 3, 'benchmark': 3, 'testing': 3, 'token': 3, 'usually': 3, 'quality': 3, 'ChatGPT': 3, 'Gemini': 3, 'Meta': 3, 'videos': 3, 'increasingly': 3, 'central': 3, 'law': 3, 'named': 3, 'co': 3, 'Huang': 3, 'Nvidia': 3, 'Photos': 3, 'automation': 3, 'care': 3, 'particularly': 3, 'engineering': 3, 'guided': 3, 'drug': 3, 'reduce': 3, 'beat': 3, 'champion': 3, 'May': 3, '5': 3, 'player': 3, 'achieved': 3, 'involves': 3, 'four': 3, 'video': 3, 'mathematics': 3, 'One': 3, 'correct': 3, 'Math': 3, '2025': 3, 'enabling': 3, 'International': 3, 'tests': 3, 'growing': 3, 'thousands': 3, 'military': 3, 'various': 3, 'hardware': 3, 'sexual': 3, 'legal': 3, 'gender': 3, 'institutions': 3, 'having': 3, 'supply': 3, 'forecasting': 3, 'elections': 3, '50': 3, 'serious': 3, 'widespread': 3, 'access': 3, 'potentially': 3, 'still': 3, 'Since': 3, 'wrote': 3, \"'re\": 3, 'copyrighted': 3, 'market': 3, 'John': 3, 'cloud': 3, 'Agency': 3, 'demand': 3, 'additional': 3, 'firms': 3, 'concern': 3, 'matter': 3, 'source': 3, 'sources': 3, 'according': 3, 'Data': 3, 'industry': 3, 'center': 3, 'said': 3, 'Three': 3, '20': 3, 'Commission': 3, 'almost': 3, 'approval': 3, 'On': 3, 'Although': 3, 'sector': 3, 'tended': 3, 'major': 3, 'Geoffrey': 3, 'Hinton': 3, 'leaders': 3, 'biased': 3, 'prevent': 3, 'chance': 3, 'white': 3, 'area': 3, 'made': 3, 'definitions': 3, 'statistical': 3, 'considered': 3, 'published': 3, 'But': 3, 'provides': 3, 'weapons': 3, '30': 3, 'China': 3, 'States': 3, 'ways': 3, 'unemployment': 3, 'Chinese': 3, 'job': 3, 'computers': 3, 'powerful': 3, 'sentience': 3, 'scenarios': 3, 'Philosopher': 3, 'Stuart': 3, 'values': 3, 'believe': 3, 'freely': 3, 'joint': 3, 'global': 3, 'longer': 3, 'Machines': 3, 'moral': 3, 'Open': 3, 'Alan': 3, 'strategies': 3, 'EU': 3, 'launched': 3, 'Americans': 3, 'consider': 3, 'British': 3, 'Minsky': 3, 'narrow': 3, 'focus': 3, 'itself': 3, 'thinking': 3, 'hard': 3, 'Critics': 3, 'symbol': 3, 'considers': 3, 'position': 3, 'idea': 3, 'Asimov': 3, 'us': 3, 'Use': 3, 'associated': 2, 'develops': 2, 'enable': 2, 'chances': 2, 'achieving': 2, 'engines': 2, 'Search': 2, 'recommendation': 2, 'Netflix': 2, 'Siri': 2, 'Alexa': 2, 'art': 2, 'play': 2, 'labeled': 2, 'subfields': 2, 'statistics': 2, 'economics': 2, 'complete': 2, 'virtually': 2, 'cognitive': 2, 'vastly': 2, '2012': 2, 'accelerate': 2, 'transformer': 2, 'ongoing': 2, 'period': 2, 'unintended': 2, 'consequences': 2, 'harms': 2, 'raised': 2, 'policies': 2, 'simulating': 2, 'traits': 2, 'expect': 2, 'below': 2, 'attention': 2, 'scope': 2, 'puzzles': 2, 'explosion': 2, 'exponentially': 2, 'Even': 2, 'fast': 2, 'unsolved': 2, 'Knowledge': 2, 'questions': 2, 'intelligently': 2, 'retrieval': 2, 'scene': 2, 'base': 2, 'represented': 2, 'properties': 2, 'represent': 2, 'events': 2, 'default': 2, 'assume': 2, 'told': 2, 'aspects': 2, 'Among': 2, 'breadth': 2, 'express': 2, 'acquisition': 2, 'takes': 2, 'rational': 2, 'avoid': 2, 'assigns': 2, 'maximum': 2, 'classical': 2, 'happen': 2, 'probabilistic': 2, 'guess': 2, 'exploratory': 2, 'associates': 2, 'Game': 2, 'comes': 2, 'category': 2, 'regression': 2, 'numeric': 2, 'responses': 2, 'ones': 2, 'applied': 2, 'Computational': 2, 'assess': 2, 'complexity': 2, 'sample': 2, 'NLP': 2, 'translation': 2, 'Noam': 2, 'Chomsky': 2, 'grammar': 2, 'semantic': 2, 'restricted': 2, 'key': 2, 'basis': 2, 'words': 2, 'mechanism': 2, 'Computer': 2, 'comprises': 2, 'recognize': 2, 'programmed': 2, 'speak': 2, 'interaction': 2, 'facilitate': 2, 'existing': 2, 'successes': 2, 'sentiment': 2, 'subject': 2, 'searching': 2, 'searches': 2, 'try': 2, 'trees': 2, 'sufficient': 2, 'never': 2, 'looking': 2, 'winning': 2, 'descent': 2, 'parameters': 2, 'minimize': 2, 'gradient': 2, 'commonly': 2, 'train': 2, 'aims': 2, 'ant': 2, 'operates': 2, 'sentences': 2, 'whose': 2, 'node': 2, 'case': 2, 'clauses': 2, 'single': 2, 'negation': 2, 'intractable': 2, 'Prolog': 2, 'competitive': 2, 'truth': 2, '0': 2, 'vague': 2, 'versions': 2, 'describe': 2, 'devised': 2, 'dynamic': 2, 'tool': 2, 'finding': 2, 'simplest': 2, 'divided': 2, 'diamond': 2, 'chosen': 2, 'supervised': 2, 'Each': 2, 'All': 2, 'When': 2, 'nearest': 2, 'neighbor': 2, 'Neural': 2, 'collection': 2, 'biological': 2, 'recognise': 2, 'weights': 2, 'signal': 2, 'contrast': 2, 'memory': 2, 'preserve': 2, 'efficiently': 2, 'edges': 2, 'subsequent': 2, 'whole': 2, 'digits': 2, 'reason': 2, 'theoretical': 2, 'factors': 2, 'fold': 2, 'speed': 2, 'curated': 2, 'datasets': 2, 'Internet': 2, 'pretraining': 2, 'predicting': 2, 'phase': 2, 'RLHF': 2, 'Current': 2, 'generating': 2, 'hallucinations': 2, 'chatbots': 2, 'Claude': 2, 'previously': 2, 'purpose': 2, 'double': 2, 'months': 2, 'trend': 2, 'Moore': 2, 'Jensen': 2, 'essential': 2, 'targeting': 2, 'driving': 2, 'internet': 2, 'cars': 2, 'facial': 2, 'deployment': 2, 'medicine': 2, 'professionals': 2, 'big': 2, 'overcome': 2, 'fields': 2, 'demonstrated': 2, 'approximate': 2, 'hours': 2, 'helped': 2, 'Parkinson': 2, 'disease': 2, 'treatments': 2, 'aggregation': 2, '1950s': 2, '2011': 2, 'Jeopardy': 2, '!': 2, 'defeated': 2, 'March': 2, 'AlphaGo': 2, '4': 2, 'becoming': 2, 'best': 2, 'challenging': 2, 'Gran': 2, 'Turismo': 2, 'competition': 2, 'against': 2, 'autonomously': 2, 'response': 2, 'Llama': 2, 'Mistral': 2, 'versatile': 2, 'included': 2, 'steps': 2, 'benchmarks': 2, 'MATH': 2, 'dataset': 2, 'January': 2, 'relatively': 2, 'dedicated': 2, 'theorems': 2, 'prompts': 2, 'fastest': 2, 'deployed': 2, 'banking': 2, 'investment': 2, 'advice': 2, 'highly': 2, 'financial': 2, 'tens': 2, 'pension': 2, 'I': 2, 'wave': 2, '[': 2, 'innovation': 2, 'Research': 2, 'logistics': 2, 'coordination': 2, 'threat': 2, 'identification': 2, 'constraints': 2, 'resources': 2, 'behaviour': 2, 'enabled': 2, 'production': 2, 'non': 2, 'raising': 2, 'attempt': 2, 'few': 2, 'management': 2, 'evacuation': 2, 'media': 2, 'conduct': 2, 'diseases': 2, 'astronomy': 2, 'increasing': 2, 'mainly': 2, 'activity': 2, 'activities': 2, 'operation': 2, 'deepfakes': 2, 'Demis': 2, 'Hassabis': 2, 'hopes': 2, 'factor': 2, 'powered': 2, 'devices': 2, 'personal': 2, 'third': 2, 'adequate': 2, 'transparency': 2, 'audio': 2, 'build': 2, 'allowed': 2, 'clearly': 2, 'deliver': 2, 'valuable': 2, 'begun': 2, 'doing': 2, 'rationale': 2, 'fair': 2, 'disagree': 2, 'courts': 2, 'authors': 2, 'discussed': 2, 'protection': 2, 'Big': 2, 'Tech': 2, 'Inc.': 2, 'already': 2, 'IEA': 2, '2026': 2, 'equal': 2, 'Japanese': 2, 'responsible': 2, 'carbon': 2, 'rise': 2, '10': 2, 'tech': 2, 'now': 2, 'seen': 2, '8': 2, 'opposed': 2, 'September': 2, 'announced': 2, 'Constellation': 2, 'Mile': 2, 'Island': 2, '100': 2, 'partial': 2, 'reactor': 2, 'Nuclear': 2, 'Regulatory': 2, '800,000': 2, 'opening': 2, 'contained': 2, 'Michigan': 2, 'investing': 2, 'October': 2, 'Crane': 2, 'Exelon': 2, 'After': 2, 'Taiwan': 2, 'ban': 2, 'plants': 2, 'company': 2, 'Ubitus': 2, 'near': 2, 'AI.[237': 2, 'rejected': 2, 'business': 2, 'keep': 2, 'watching': 2, 'extreme': 2, 'convinced': 2, 'trust': 2, 'correctly': 2, 'harmful': 2, 'texts': 2, 'propaganda': 2, 'pioneer': 2, 'expressed': 2, 'universities': 2, 'personhood': 2, 'Bias': 2, 'seriously': 2, 'harm': 2, 'cause': 2, 'algorithmic': 2, 'biases': 2, 'June': 2, '28': 2, 'gorilla': 2, 'fact': 2, 'whites': 2, 'blacks': 2, '61': 2, 'offend': 2, 'address': 2, 'history': 2, \"n't\": 2, 'highlighted': 2, 'includes': 2, 'racist': 2, 'hope': 2, 'engineers': 2, 'depend': 2, 'beliefs': 2, 'focuses': 2, 'groups': 2, 'compensate': 2, 'tries': 2, 'subjectivity': 2, 'Having': 2, 'At': 2, 'Conference': 2, 'Association': 2, 'Computing': 2, 'Machinery': 2, 'Seoul': 2, 'presented': 2, 'recommend': 2, 'mistakes': 2, 'discuss': 2, 'operating': 2, 'cases': 2, 'nevertheless': 2, 'strong': 2, 'tendency': 2, 'ruler': 2, 'patients': 2, 'dying': 2, 'pneumonia': 2, 'misleading': 2, 'General': 2, 'explicit': 2, 'noted': 2, 'established': 2, '2014': 2, 'Several': 2, 'targets': 2, 'develop': 2, 'mass': 2, 'warfare': 2, 'reliably': 2, 'kill': 2, 'Nations': 2, 'Convention': 2, 'easier': 2, 'citizens': 2, 'total': 2, 'employment': 2, 'economists': 2, 'generally': 2, 'eliminated': 2, 'stated': 2, 'collar': 2, 'arguments': 2, 'done': 2, 'Stephen': 2, 'Hawking': 2, 'awareness': 2, 'gives': 2, 'sufficiently': 2, 'he': 2, 'you': 2, 'morality': 2, 'our': 2, 'built': 2, 'stories': 2, 'billions': 2, 'current': 2, 'concerned': 2, 'superintelligent': 2, 'extinction': 2, 'priority': 2, 'lives': 2, 'While': 2, 'Yann': 2, 'LeCun': 2, 'beginning': 2, 'developing': 2, 'AAAI': 2, 'J.': 2, 'provably': 2, 'measure': 2, 'away': 2, 'warn': 2, 'implementation': 2, 'Care': 2, 'Framework': 2, 'Institute': 2, 'wellbeing': 2, 'everyone': 2, 'initiative': 2, 'criticism': 2, 'affect': 2, 'scientists': 2, 'UK': 2, 'Safety': 2, 'regulation': 2, 'emerging': 2, 'alone': 2, 'Global': 2, 'calling': 2, 'regulate': 2, 'governance': 2, 'international': 2, 'Ipsos': 2, '35': 2, 'poll': 2, '22': 2, 'thought': 2, 'responding': 2, 'Summit': 2, 'possibility': 2, 'challenges': 2, 'philosophers': 2, 'symbols': 2, 'electronic': 2, '1950': 2, 'algebra': 2, '1970s': 2, 'Simon': 2, 'predicted': 2, '1967': 2, 'Marvin': 2, 'writing': 2, 'book': 2, 'winter': 2, 'simulated': 2, 'dollars': 2, 'project': 2, 'mental': 2, 'plans': 2, 'imitate': 2, 'focussed': 2, 'move': 2, '21st': 2, 'century': 2, 'verifiable': 2, 'AGI': 2, 'funded': 2, 'enormous': 2, 'publications': 2, 'issues': 2, '?': 2, 'thinks': 2, 'Norvig': 2, 'external': 2, 'internal': 2, 'pigeons': 2, 'McCarthy': 2, 'defines': 2, 'similarly': 2, 'philosophical': 2, 'soft': 2, 'Moravec': 2, 'why': 2, 'modern': 2, 'attempts': 2, 'Neats': 2, 'irrelevant': 2, 'Soft': 2, 'lead': 2, 'blind': 2, 'red': 2, 'Computationalism': 2, 'relationship': 2, 'Searle': 2, 'sentient': 2, 'suffer': 2, 'welfare': 2, 'Robot': 2, 'granting': 2, 'Darwin': 2, 'Day': 2, 'culture': 2, 'novel': 2, 'Dick': 2, 'textbooks': 2, 'Ciaramella': 2, 'capability': 1, 'perform': 1, 'High': 1, 'profile': 1, 'web': 1, 'Assistant': 1, 'Waymo': 1, 'creative': 1, 'superhuman': 1, 'perceived': 1, 'lot': 1, 'cutting': 1, 'edge': 1, 'filtered': 1, 'anymore': 1, '\"[2][3': 1, 'centered': 1, 'traditional': 1, 'robotics.[a': 1, 'To': 1, 'adapted': 1, 'draws': 1, 'psychology': 1, 'linguistics': 1, 'neuroscience': 1, 'fields.[4': 1, 'Meta,[5': 1, 'AGI)—AI': 1, 'discipline': 1, '1956,[6': 1, 'went': 1, 'cycles': 1, 'optimism': 1, 'history,[7][8': 1, 'followed': 1, 'periods': 1, 'disappointment': 1, 'winters.[9][10': 1, 'Funding': 1, 'started': 1, 'outperformed': 1, 'techniques.[11': 1, 'accelerated': 1, 'rapid': 1, 'progress': 1, 'modify': 1, 'prompting': 1, 'broken': 1, 'subproblems': 1, 'consist': 1, 'display': 1, 'cover': 1, 'research.[a': 1, 'imitated': 1, 'deductions.[13': 1, 'dealing': 1, 'employing': 1, 'economics.[14': 1, 'insufficient': 1, 'combinatorial': 1, 'slower': 1, 'grow.[15': 1, 'deduction': 1, 'intuitive': 1, 'judgments.[16': 1, 'Accurate': 1, 'engineering[17': 1, 'answer': 1, 'deductions': 1, 'representations': 1, 'indexing': 1, 'interpretation': 1, 'clinical': 1, 'mining': 1, 'interesting': 1, 'actionable': 1, 'inferences': 1, 'databases': 1, 'ontology': 1, 'bases': 1, 'categories': 1, 'objects;[24': 1, 'time;[25': 1, 'causes': 1, 'effects;[26': 1, 'know);[27': 1, 'differently': 1, 'remain': 1, 'changing);[28': 1, 'atomic': 1, 'average': 1, 'enormous);[29': 1, 'verbally).[16': 1, 'applications.[c': 1, 'perceives': 1, 'happen.[d': 1, 'goal.[33': 1, 'prefer': 1, 'trying': 1, 'prefers': 1, 'calculate': 1, 'weighted': 1, 'utility.[34': 1, 'be.[35': 1, 'unknown': 1, 'unobservable': 1, 'deterministic': 1, 'reassess': 1, 'worked.[36': 1, 'involved': 1, 'inverse': 1, 'seek': 1, 'preferences.[37': 1, 'Information': 1, 'weigh': 1, 'actions.[38': 1, 'intractably': 1, 'transition': 1, 'change': 1, 'reward': 1, 'supplies': 1, 'calculated': 1, 'iteration': 1, 'heuristic': 1, 'learned.[39': 1, 'interacting': 1, 'involve': 1, 'agents.[40': 1, 'automatically.[41': 1, 'beginning.[e': 1, 'Unsupervised': 1, 'analyzes': 1, 'stream': 1, 'finds': 1, 'guidance.[44': 1, 'Supervised': 1, 'varieties': 1, 'belongs': 1, 'input).[45': 1, 'rewarded': 1, 'punished': 1, 'learns': 1, 'good\".[46': 1, 'Transfer': 1, 'gained': 1, 'problem.[47': 1, 'runs': 1, 'biologically': 1, 'learning.[48': 1, 'learners': 1, 'optimization.[49': 1, 'Natural': 1, 'read': 1, 'write': 1, 'communicate': 1, 'languages.[50': 1, 'Specific': 1, 'synthesis': 1, 'extraction': 1, 'answering.[51': 1, 'disambiguation[f': 1, 'unless': 1, 'micro': 1, 'worlds': 1, 'problem[29': 1, 'Margaret': 1, 'Masterman': 1, 'believed': 1, 'thesauri': 1, 'dictionaries': 1, 'embedding': 1, 'representing': 1, 'vectors': 1, 'encoding': 1, 'others.[54': 1, 'coherent': 1, 'scores': 1, 'bar': 1, 'exam': 1, 'SAT': 1, 'GRE': 1, 'cameras': 1, 'microphones': 1, 'wireless': 1, 'active': 1, 'lidar': 1, 'sonar': 1, 'radar': 1, 'tactile': 1, 'visual': 1, 'input.[58': 1, 'Affective': 1, 'interpret': 1, 'feeling': 1, 'emotion': 1, 'mood.[65': 1, 'conversationally': 1, 'banter': 1, 'humorously': 1, 'appear': 1, 'emotional': 1, 'dynamics': 1, 'otherwise': 1, 'tends': 1, 'give': 1, 'naïve': 1, 'unrealistic': 1, 'conception': 1, 'Moderate': 1, 'affective': 1, 'textual': 1, 'recently': 1, 'multimodal': 1, 'wherein': 1, 'classifies': 1, 'displayed': 1, 'videotaped': 1, 'versatility': 1, 'intelligence.[68': 1, 'accomplish': 1, 'above': 1, 'solutions.[69': 1, 'State': 1, 'state.[70': 1, 'subgoals': 1, 'attempting': 1, 'path': 1, 'ends': 1, 'Simple': 1, 'exhaustive': 1, 'searches[72': 1, 'places': 1, 'quickly': 1, 'grows': 1, 'astronomical': 1, 'numbers': 1, 'slow': 1, 'completes.[15': 1, 'Heuristics': 1, 'thumb': 1, 'prioritize': 1, 'goal.[73': 1, 'Adversarial': 1, 'moves': 1, 'countermoves': 1, 'position.[74': 1, 'Local': 1, 'begins': 1, 'refines': 1, 'incrementally.[75': 1, 'Gradient': 1, 'optimizes': 1, 'numerical': 1, 'incrementally': 1, 'adjusting': 1, 'Variants': 1, 'networks,[76': 1, 'evolutionary': 1, 'iteratively': 1, 'candidate': 1, 'mutating': 1, 'recombining': 1, 'selecting': 1, 'fittest': 1, 'survive': 1, 'generation.[77': 1, 'Distributed': 1, 'coordinate': 1, 'via': 1, 'Two': 1, 'particle': 1, 'bird': 1, 'flocking': 1, 'colony': 1, 'trails': 1, 'representation.[79': 1, 'forms': 1, 'propositional': 1, 'false': 1, 'connectives': 1, 'implies\")[80': 1, 'predicate': 1, 'predicates': 1, 'quantifiers': 1, 'Every': 1, 'X': 1, 'Y': 1, 'Xs': 1, 'Ys\").[81': 1, 'Deductive': 1, 'conclusion': 1, 'assumed': 1, 'premises).[82': 1, 'Proofs': 1, 'structured': 1, 'children': 1, 'connected': 1, 'parent': 1, 'Given': 1, 'reduces': 1, 'root': 1, 'leaf': 1, 'axioms': 1, 'performed': 1, 'forwards': 1, 'backwards': 1, 'problem.[83': 1, 'clausal': 1, 'resolution': 1, 'axiom': 1, 'rule': 1, 'solved': 1, 'contradiction': 1, 'solved.[84': 1, 'Inference': 1, 'clause': 1, 'undecidable': 1, 'backward': 1, 'underpins': 1, 'Moreover': 1, 'efficiency': 1, 'languages.[85': 1, 'Fuzzy': 1, 'degree': 1, 'propositions': 1, 'partially': 1, 'true.[86': 1, 'Non': 1, 'monotonic': 1, 'logics': 1, 'failure': 1, 'reasoning.[28': 1, 'economics.[87': 1, 'Precise': 1, 'plan': 1, 'analysis,[88': 1, 'theory.[89': 1, 'processes,[90': 1, 'networks,[91': 1, 'design.[92': 1, 'networks[93': 1, 'algorithm),[g][95': 1, 'expectation': 1, 'maximization': 1, 'algorithm),[h][97': 1, 'networks)[98': 1, 'networks).[91': 1, 'Probabilistic': 1, 'filtering': 1, 'prediction': 1, 'smoothing': 1, 'explanations': 1, 'streams': 1, 'helping': 1, 'Kalman': 1, 'filters).[91': 1, 'shiny': 1, 'controllers': 1, 'pick': 1, 'Classifiers[99': 1, 'functions': 1, 'matching': 1, 'closest': 1, 'predefined': 1, 'observations': 1, 'combined': 1, 'labels': 1, 'experience.[45': 1, 'use.[100': 1, 'algorithm.[101': 1, 'K': 1, 'analogical': 1, 'mid-1990s': 1, 'Kernel': 1, 'vector': 1, 'SVM': 1, 'displaced': 1, 'k': 1, '1990s.[102': 1, 'naive': 1, 'Bayes': 1, 'classifier': 1, 'reportedly': 1, 'learner': 1, 'scalability.[104': 1, 'classifiers.[105': 1, 'loosely': 1, 'fresh': 1, 'applies': 1, 'crosses': 1, 'specified': 1, 'threshold': 1, 'transmitted': 1, 'layers.[105': 1, 'Learning': 1, 'algorithm.[106': 1, 'function.[107': 1, 'feedforward': 1, 'passes': 1, 'direction.[108': 1, 'perceptron': 1, 'refers': 1, 'network.[109': 1, 'layers.[110': 1, 'Recurrent': 1, 'RNNs': 1, 'feed': 1, 'memories': 1, 'Long': 1, 'LSTMs': 1, 'recurrent': 1, 'longterm': 1, 'dependencies': 1, 'vanishing': 1, 'problem.[111': 1, 'Convolutional': 1, 'CNNs': 1, 'kernels': 1, 'CNN': 1, 'curves': 1, 'detecting': 1, 'textures': 1, 'objects.[112': 1, 'outputs.[110': 1, 'progressively': 1, 'extract': 1, 'raw': 1, 'lower': 1, 'letters': 1, 'faces': 1, 'profoundly': 1, 'performs': 1, 'sudden': 1, '2012–2015': 1, 'breakthrough': 1, '1950s)[i': 1, 'incredible': 1, 'hundred': 1, 'switching': 1, 'availability': 1, 'giant': 1, 'ImageNet.[j': 1, 'LLMs': 1, 'Text': 1, 'corpus': 1, 'consists': 1, 'subword': 1, 'punctuation': 1, 'Throughout': 1, 'accumulate': 1, 'repeatedly': 1, 'Typically': 1, 'truthful': 1, 'harmless': 1, 'feedback': 1, 'prone': 1, 'falsehoods': 1, 'reduced': 1, 'getting': 1, 'worse': 1, 'systems.[124': 1, 'Such': 1, 'ask': 1, 'request': 1, 'text.[126': 1, 'Copilot': 1, 'AI.[127': 1, 'Multimodal': 1, 'modalities': 1, 'sound': 1, 'enhancements': 1, 'TensorFlow': 1, 'replaced': 1, 'unit': 1, 'CPUs': 1, 'dominant': 1, 'Specialized': 1, 'research,[130': 1, 'Python': 1, 'predominant.[131': 1, 'transistor': 1, 'density': 1, 'circuits': 1, 'observed': 1, 'roughly': 1, 'every': 1, '18': 1, 'Intel': 1, 'Gordon': 1, 'Improvements': 1, 'faster,[132': 1, 'law,[133': 1, 'advertisements': 1, 'offered': 1, 'traffic': 1, 'targeted': 1, 'advertising': 1, 'AdSense': 1, 'drones': 1, 'ADAS': 1, 'automatic': 1, 'Translator': 1, 'Translate': 1, 'FaceID': 1, 'DeepFace': 1, 'FaceNet': 1, 'TikTok': 1, 'overseen': 1, 'chief': 1, 'officer': 1, 'CAO': 1, 'patient': 1, 'life.[134': 1, 'Through': 1, 'lens': 1, 'Hippocratic': 1, 'Oath': 1, 'ethically': 1, 'compelled': 1, 'accurately': 1, 'diagnose': 1, 'treat': 1, 'patients.[135][136': 1, 'integrating': 1, 'organoid': 1, 'tissue': 1, 'microscopy': 1, 'imaging': 1, 'fabrication.[137': 1, 'discrepancies': 1, 'allocated': 1, 'research.[137][138': 1, 'New': 1, 'deepen': 1, 'biomedically': 1, 'pathways': 1, 'AlphaFold': 1, '3D': 1, 'protein.[139': 1, 'antibiotics': 1, 'killing': 1, 'resistant': 1, 'bacteria.[140': 1, 'Their': 1, 'compounds': 1, 'block': 1, 'clumping': 1, 'alpha': 1, 'synuclein': 1, 'protein': 1, 'characterises': 1, 'initial': 1, 'screening': 1, 'ten': 1, 'thousand': 1, 'fold.[141][142': 1, 'demonstrate': 1, 'techniques.[143': 1, 'Blue': 1, 'reigning': 1, 'Garry': 1, 'Kasparov': 1, '11': 1, '1997.[144': 1, 'quiz': 1, 'exhibition': 1, 'IBM': 1, 'answering': 1, 'Watson': 1, 'greatest': 1, 'champions': 1, 'Brad': 1, 'Rutter': 1, 'Ken': 1, 'Jennings': 1, 'margin.[145': 1, 'won': 1, 'Lee': 1, 'Sedol': 1, 'professional': 1, 'handicaps': 1, 'Then': 1, 'Ke': 1, 'Jie': 1, 'world.[146': 1, 'imperfect': 1, 'poker': 1, 'Pluribus.[147': 1, 'generalistic': 1, 'MuZero': 1, 'Atari': 1, 'games.[148': 1, 'AlphaStar': 1, 'grandmaster': 1, 'StarCraft': 1, 'II': 1, 'happens': 1, 'map.[149': 1, 'competed': 1, 'PlayStation': 1, 'drivers': 1, 'learning.[150': 1, 'SIMA': 1, 'nine': 1, 'unseen': 1, 'observing': 1, 'screen': 1, 'executing': 1, 'instructions.[151': 1, 'Large': 1, 'GPT-4': 1, 'wrong': 1, 'database': 1, 'tuning[152': 1, 'annotated': 1, 'corrections.[153': 1, 'February': 1, 'math': 1, 'minor': 1, 'deviations': 1, 'data.[154': 1, 'just': 1, 'result.[155': 1, 'Alibaba': 1, 'Group': 1, 'version': 1, 'Qwen': 1, 'Qwen2': 1, '84': 1, 'accuracy': 1, 'problems.[156': 1, 'rStar': 1, 'leverages': 1, 'Monte': 1, 'Carlo': 1, 'Qwen-7B': 1, '53': 1, 'AIME': 1, '90': 1, 'problems.[157': 1, 'Alternatively': 1, 'precision': 1, 'AlphaTensor': 1, 'AlphaGeometry': 1, 'AlphaProof': 1, 'AlphaEvolve[158': 1, 'DeepMind,[159': 1, 'Llemma': 1, 'EleutherAI[160': 1, 'Julius.[161': 1, 'converters': 1, 'transform': 1, 'Lean': 1, 'Think': 1, 'accepts': 1, 'gold': 1, 'medal': 1, 'Olympiad': 1, '2025.[162': 1, 'serve': 1, 'educational': 1, 'mathematics.[163': 1, 'Finance': 1, 'sectors': 1, 'retail': 1, 'insurance': 1, 'advisers': 1, 'years.[164': 1, 'Nicolas': 1, 'Firzli': 1, 'director': 1, 'World': 1, 'Pensions': 1, '&': 1, 'Investments': 1, 'Forum': 1, 'emergence': 1, 'innovative': 1, 'informed': 1, 'simply': 1, 'automatise': 1, 'destroying': 1, \"'m\": 1, 'sure': 1, 'unleash': 1, 'sophisticated': 1, '\"[165': 1, 'deploying': 1, 'applications.[166': 1, 'enhance': 1, 'command': 1, 'communications': 1, 'integration': 1, 'interoperability.[167': 1, 'cyber': 1, 'semiautonomous': 1, 'vehicles.[166': 1, 'effectors': 1, 'detection': 1, 'marking': 1, 'enemy': 1, 'positions': 1, 'deconfliction': 1, 'distributed': 1, 'Joint': 1, 'Fires': 1, 'networked': 1, 'combat': 1, 'operated': 1, 'autonomous.[167': 1, 'Iraq': 1, 'Syria': 1, 'Israel': 1, 'Ukraine.[166][168][169][170': 1, 'entities': 1, 'interact': 1, 'industrial': 1, 'limitations': 1, 'performing': 1, 'finite': 1, 'face': 1, 'execution': 1, 'incorporate': 1, 'Using': 1, 'adapt': 1, 'optimise': 1, 'designated': 1, 'tasks.[190][191][192': 1, 'Applications': 1, 'menstruation': 1, 'fertility': 1, 'trackers': 1, 'offer': 1, 'predictions,[193': 1, 'sex': 1, 'toys': 1, 'teledildonics),[194': 1, 'education': 1, 'content,[195': 1, 'romantic': 1, 'partners': 1, 'Replika).[196': 1, 'consensual': 1, 'deepfake': 1, 'pornography': 1, 'concerns.[197': 1, 'violence': 1, 'grooming': 1, 'minors.[198][199': 1, 'industries': 1, 'five': 1, 'incorporated': 1, 'offerings': 1, 'processes.[200': 1, 'storage': 1, 'diagnosis': 1, 'judicial': 1, 'foreign': 1, 'chain': 1, 'disaster': 1, 'investigate': 1, 'evacuations': 1, 'historical': 1, 'GPS': 1, 'Furthermore': 1, 'conditions.[201][202][203': 1, 'agriculture': 1, 'farmers': 1, 'yield': 1, 'irrigation': 1, 'fertilization': 1, 'pesticide': 1, 'Agronomists': 1, 'ripening': 1, 'crops': 1, 'tomatoes': 1, 'monitor': 1, 'soil': 1, 'moisture': 1, 'agricultural': 1, 'predictive': 1, 'analytics': 1, 'livestock': 1, 'pig': 1, 'call': 1, 'emotions': 1, 'automate': 1, 'greenhouses': 1, 'detect': 1, 'pests': 1, 'save': 1, 'water': 1, 'clustering': 1, 'scientific': 1, 'insights': 1, 'discovering': 1, 'exoplanets': 1, 'solar': 1, 'distinguishing': 1, 'instrumental': 1, 'gravitational': 1, 'Additionally': 1, 'exploration': 1, 'missions': 1, 'spacecraft': 1, 'debris': 1, 'avoidance': 1, 'During': 1, 'Indian': 1, 'spent': 1, 'authorized': 1, 'allied': 1, 'deceased': 1, 'politicians': 1, 'engage': 1, 'voters': 1, 'translating': 1, 'speeches': 1, 'languages.[204': 1, 'risks.[207': 1, 'advance': 1, 'everything': 1, 'else': 1, 'inherently': 1, 'unexplainable': 1, 'acquire': 1, 'copyright': 1, 'IoT': 1, 'continuously': 1, 'collect': 1, 'intrusive': 1, 'gathering': 1, 'unauthorized': 1, 'parties': 1, 'exacerbated': 1, 'combine': 1, 'individual': 1, 'constantly': 1, 'monitored': 1, 'analyzed': 1, 'safeguards': 1, 'Sensitive': 1, 'collected': 1, 'records': 1, 'geolocation': 1, 'recorded': 1, 'millions': 1, 'private': 1, 'conversations': 1, 'temporary': 1, 'workers': 1, 'listen': 1, 'transcribe': 1, 'Opinions': 1, 'evil': 1, 'whom': 1, 'unethical': 1, 'violation': 1, 'de': 1, 'differential': 1, 'Cynthia': 1, 'Dwork': 1, 'Brian': 1, 'Christian': 1, 'pivoted': 1, 'unlicensed': 1, 'code': 1, 'Experts': 1, 'circumstances': 1, 'hold': 1, 'character': 1, 'work\".[217': 1, 'Website': 1, 'owners': 1, 'wish': 1, 'scraped': 1, 'indicate': 1, 'robots.txt': 1, 'file.[218': 1, 'Grisham': 1, 'Jonathan': 1, 'Franzen': 1, 'sued': 1, 'envision': 1, 'separate': 1, 'sui': 1, 'generis': 1, 'creations': 1, 'attribution': 1, 'compensation': 1, 'authors.[221': 1, 'dominated': 1, 'Alphabet': 1, 'Platforms': 1, 'Microsoft.[222][223][224': 1, 'players': 1, 'majority': 1, 'infrastructure': 1, 'allowing': 1, 'entrench': 1, 'marketplace.[225][226': 1, 'Electricity': 1, 'Analysis': 1, 'Forecast': 1, 'use.[227': 1, 'projections': 1, 'cryptocurrency': 1, 'usage': 1, 'nation.[228': 1, 'Prodigious': 1, 'fossil': 1, 'fuel': 1, 'delay': 1, 'closings': 1, 'obsolete': 1, 'emitting': 1, 'coal': 1, 'facilities': 1, 'feverish': 1, 'construction': 1, 'voracious': 1, 'consumers': 1, 'Projected': 1, 'immense': 1, 'fulfilled': 1, 'times': 1, 'haste': 1, 'geothermal': 1, 'fusion': 1, 'kinder': 1, 'assist': 1, 'track': 1, 'overall': 1, 'firms.[229': 1, 'Goldman': 1, 'Sachs': 1, 'Paper': 1, 'Centers': 1, 'Coming': 1, 'Power': 1, 'Demand': 1, 'Surge': 1, '....': 1, 'forecasts': 1, '2030': 1, 'consume': 1, '3': 1, 'presaging': 1, 'means.[230': 1, 'max': 1, 'counter': 1, 'utilization': 1, 'all.[231': 1, 'Wall': 1, 'Street': 1, 'Journal': 1, 'negotiations': 1, 'providers': 1, 'purchased': 1, 'Pennsylvania': 1, '650': 1, 'million.[232': 1, 'option': 1, 'centers.[233': 1, 'agreement': 1, 'Reopening': 1, 'suffered': 1, 'meltdown': 1, 'Unit': 1, '1979': 1, 'strict': 1, 'extensive': 1, 'scrutiny': 1, 'approved': 1, 'ever': 1, 'commissioning': 1, '835': 1, 'megawatts': 1, 'homes': 1, 'upgrading': 1, '1.6': 1, 'dependent': 1, 'tax': 1, 'breaks': 1, 'Inflation': 1, 'Reduction': 1, 'Act.[234': 1, 'reopen': 1, 'Palisades': 1, 'Lake': 1, 'Closed': 1, 'planned': 1, 'reopened': 1, 'facility': 1, 'renamed': 1, 'Clean': 1, 'Center': 1, 'Chris': 1, 'proponent': 1, 'former': 1, 'spinoff': 1, 'Constellation.[235': 1, 'last': 1, 'suspended': 1, 'north': 1, 'Taoyuan': 1, 'capacity': 1, 'MW': 1, 'shortages.[236': 1, '2025.[236': 1, 'Singapore': 1, 'imposed': 1, 'lifted': 1, 'ban.[236': 1, 'shut': 1, 'down': 1, 'Fukushima': 1, 'accident': 1, 'Bloomberg': 1, 'article': 1, 'gaming': 1, 'stake': 1, 'land': 1, 'Wesley': 1, 'Kuo': 1, 'cheap': 1, 'stable': 1, 'Federal': 1, 'FERC': 1, 'submitted': 1, 'Talen': 1, 'station': 1, 'Susquehanna': 1, 'center.[238': 1, 'Chairman': 1, 'Willie': 1, 'L.': 1, 'Phillips': 1, 'burden': 1, 'shifting': 1, 'households': 1, 'sectors.[238': 1, 'prepared': 1, 'greenhouse': 1, 'gas': 1, '180': 1, 'tons': 1, '2035': 1, '300–500': 1, 'tonnes': 1, 'depending': 1, 'taken': 1, '1.5': 1, 'reduction': 1, 'rebound': 1, 'switch': 1, 'transport': 1, 'it.[239': 1, 'recommender': 1, 'guide': 1, 'maximizing': 1, 'engagement': 1, 'conspiracy': 1, 'theories': 1, 'partisan': 1, 'recommended': 1, 'Users': 1, 'watch': 1, 'filter': 1, 'bubbles': 1, 'ultimately': 1, 'undermined': 1, 'government.[241': 1, 'election': 1, 'took': 1, 'mitigate': 1, 'problem.[242': 1, 'indistinguishable': 1, 'photographs': 1, 'recordings': 1, 'writing,[243': 1, 'realistic': 1, 'feasible': 1, 'mid-2020s.[244][245][246': 1, 'massive': 1, 'malicious': 1, 'propaganda.[248': 1, 'manipulate': 1, 'electorates': 1, 'organisations': 1, 'credentials': 1, 'deception': 1, 'models.[250': 1, 'biased[k': 1, 'aware': 1, 'exists': 1, 'selected': 1, 'finance': 1, 'recruitment': 1, 'housing': 1, 'policing': 1, 'discrimination.[255': 1, 'mistakenly': 1, 'Jacky': 1, 'Alcine': 1, 'friend': 1, 'gorillas': 1, 'size': 1, 'disparity': 1, 'fixed': 1, 'preventing': 1, 'labelling': 1, 'Eight': 1, 'later': 1, 'neither': 1, 'likelihood': 1, 'defendant': 1, 'recidivist': 1, 'Julia': 1, 'Angwin': 1, 'ProPublica': 1, 'discovered': 1, 'exhibited': 1, 'racial': 1, 'despite': 1, 'races': 1, 'defendants': 1, 'error': 1, 'rate': 1, 'calibrated': 1, 'errors': 1, 'consistently': 1, 'overestimated': 1, 'underestimate': 1, 'researchers[l': 1, 'mathematically': 1, 'accommodate': 1, 'rates': 1, 'offense': 1, 'data.[261': 1, 'explicitly': 1, 'mention': 1, 'problematic': 1, 'correlate': 1, 'shopping': 1, 'name': 1, 'gender\".[262': 1, 'Moritz': 1, 'Hardt': 1, 'robust': 1, 'blindness': 1, '\"[263': 1, 'Criticism': 1, 'valid': 1, 'resemble': 1, 'racist.[264': 1, 'Thus': 1, 'suited': 1, 'descriptive': 1, 'prescriptive.[m': 1, 'unfairness': 1, 'go': 1, 'undetected': 1, 'overwhelmingly': 1, 'male': 1, 'women': 1, 'conflicting': 1, 'assumptions': 1, 'influenced': 1, 'broad': 1, 'distributive': 1, 'identifying': 1, 'seeking': 1, 'disparities': 1, 'Representational': 1, 'reinforce': 1, 'negative': 1, 'stereotypes': 1, 'render': 1, 'invisible': 1, 'Procedural': 1, 'context': 1, 'stakeholders': 1, 'operationalize': 1, 'attributes': 1, 'ethicists': 1, 'conflict': 1, 'anti': 1, 'discrimination': 1, 'laws.[251': 1, 'Fairness': 1, 'Accountability': 1, 'Transparency': 1, 'ACM': 1, 'FAccT': 1, 'South': 1, 'Korea': 1, 'findings': 1, 'unsafe': 1, 'unregulated': 1, 'flawed': 1, 'curtailed.[dubious': 1, 'designers': 1, 'Particularly': 1, 'linear': 1, 'explainability': 1, 'exist.[268': 1, 'rigorous': 1, 'programmers': 1, 'intended': 1, 'skin': 1, 'cancerous': 1, 'pictures': 1, 'malignancies': 1, 'effectively': 1, 'allocate': 1, 'severe': 1, 'unlikely': 1, 'die': 1, 'correlation': 1, 'People': 1, 'harmed': 1, 'explanation.[271': 1, 'Doctors': 1, 'completely': 1, 'colleagues': 1, 'behind': 1, 'drafts': 1, 'Protection': 1, 'Regulation': 1, 'exists.[n': 1, 'Industry': 1, 'sight': 1, 'Regulators': 1, 'DARPA': 1, 'XAI': 1, 'Explainable': 1, 'SHAP': 1, 'enables': 1, 'visualise': 1, 'contribution': 1, 'LIME': 1, 'locally': 1, 'simpler': 1, 'interpretable': 1, 'Multitask': 1, 'addition': 1, 'Deconvolution': 1, 'DeepDream': 1, 'suggest': 1, 'Anthropic': 1, 'dictionary': 1, 'neuron': 1, 'activations': 1, 'understandable': 1, 'concepts.[278': 1, 'terrorists': 1, 'criminals': 1, 'rogue': 1, 'lethal': 1, 'weapon': 1, 'locates': 1, 'selects': 1, 'engages': 1, 'supervision.[o': 1, 'Widely': 1, 'inexpensive': 1, 'destruction': 1, 'conventional': 1, 'currently': 1, 'innocent': 1, 'nations': 1, 'supported': 1, 'Certain': 1, 'Conventional': 1, 'Weapons': 1, 'disagreed': 1, 'fifty': 1, 'researching': 1, 'battlefield': 1, 'robots.[282': 1, 'Face': 1, 'voice': 1, 'enemies': 1, 'hiding': 1, 'Recommendation': 1, 'precisely': 1, 'Deepfakes': 1, 'aid': 1, 'producing': 1, 'Advanced': 1, 'centralized': 1, 'liberal': 1, 'decentralized': 1, 'markets': 1, 'lowers': 1, 'digital': 1, 'spyware': 1, 'earlier': 1, 'China.[284][285': 1, 'foreseen': 1, 'toxic': 1, 'molecules': 1, 'Economists': 1, 'frequently': 1, 'redundancies': 1, 'speculated': 1, 'full': 1, 'employment.[287': 1, 'acknowledge': 1, 'uncharted': 1, 'territory': 1, 'AI.[288': 1, 'disagreement': 1, 'substantial': 1, 'net': 1, 'productivity': 1, 'gains': 1, 'redistributed': 1, 'Risk': 1, 'estimates': 1, 'vary': 1, 'Michael': 1, 'Osborne': 1, 'Carl': 1, 'Benedikt': 1, 'Frey': 1, '47': 1, 'OECD': 1, '9': 1, 'risk\".[p][291': 1, 'methodology': 1, 'speculating': 1, 'levels': 1, 'criticised': 1, 'lacking': 1, 'evidential': 1, 'foundation': 1, 'implying': 1, 'creates': 1, 'redundancies.[287': 1, 'April': 1, '70': 1, 'illustrators': 1, 'intelligence.[292][293': 1, 'Unlike': 1, 'waves': 1, 'middle': 1, 'Economist': 1, 'worry': 1, 'steam': 1, 'blue': 1, 'Industrial': 1, 'Revolution': 1, 'worth': 1, 'taking': 1, 'Jobs': 1, 'paralegals': 1, 'food': 1, 'cooks': 1, 'professions': 1, 'ranging': 1, 'healthcare': 1, 'clergy.[295': 1, 'From': 1, 'days': 1, 'put': 1, 'forward': 1, 'Joseph': 1, 'Weizenbaum': 1, 'difference': 1, 'quantitative': 1, 'calculation': 1, 'qualitative': 1, 'judgement.[296': 1, 'irreversibly': 1, 'lose': 1, 'physicist': 1, 'spell': 1, 'end': 1, 'scenario': 1, 'suddenly': 1, 'malevolent': 1, 'character.[q': 1, 'sci': 1, 'fi': 1, 'First': 1, 'Nick': 1, 'Bostrom': 1, 'destroy': 1, 'paperclip': 1, 'maximizer': 1, 'household': 1, 'owner': 1, 'unplugged': 1, 'ca': 1, 'fetch': 1, 'coffee': 1, 'dead': 1, 'safe': 1, 'genuinely': 1, 'aligned': 1, 'fundamentally': 1, 'side\".[301': 1, 'Second': 1, 'Yuval': 1, 'Noah': 1, 'Harari': 1, 'pose': 1, 'parts': 1, 'civilization': 1, 'Things': 1, 'ideologies': 1, 'money': 1, 'economy': 1, 'exist': 1, 'prevalence': 1, 'suggests': 1, 'convince': 1, 'destructive': 1, 'opinions': 1, 'amongst': 1, 'insiders': 1, 'mixed': 1, 'sizable': 1, 'fractions': 1, 'unconcerned': 1, 'eventual': 1, 'Personalities': 1, 'Bill': 1, 'Gates': 1, 'Elon': 1, 'Musk,[304': 1, 'pioneers': 1, 'Yoshua': 1, 'Bengio': 1, 'Sam': 1, 'Altman': 1, 'resignation': 1, 'considering': 1, 'impacts': 1, 'Google\".[305': 1, 'mentioned': 1, 'takeover,[306': 1, 'stressed': 1, 'worst': 1, 'establishing': 1, 'guidelines': 1, 'cooperation': 1, 'competing': 1, 'AI.[307': 1, 'endorsed': 1, 'Mitigating': 1, 'alongside': 1, 'societal': 1, 'pandemics': 1, 'war': 1, 'optimistic': 1, 'Jürgen': 1, 'Schmidhuber': 1, 'sign': 1, 'emphasising': 1, '95': 1, 'healthier': 1, '\"[309': 1, '\"[310][311': 1, 'Andrew': 1, 'Ng': 1, 'mistake': 1, 'fall': 1, 'doomsday': 1, 'hype': 1, 'regulators': 1, 'vested': 1, 'interests': 1, '\"[312': 1, 'scoffs': 1, 'peers': 1, 'dystopian': 1, 'supercharged': 1, '\"[313': 1, 'distant': 1, 'warrant': 1, 'perspective': 1, 'machine.[314': 1, 'Friendly': 1, 'Eliezer': 1, 'Yudkowsky': 1, 'coined': 1, 'friendly': 1, 'completed': 1, 'before': 1, 'procedures': 1, 'resolving': 1, 'dilemmas': 1, 'symposium': 1, '2005': 1, 'Wendell': 1, 'Wallach': 1, 'three': 1, 'beneficial': 1, 'Active': 1, 'organizations': 1, 'community': 1, 'Hugging': 1, 'Face,[321': 1, 'Google,[322': 1, 'EleutherAI': 1, 'Meta.[323': 1, 'Stable': 1, 'Diffusion': 1, 'weight,[324][325': 1, 'publicly': 1, 'specialize': 1, 'case.[326': 1, 'misused': 1, 'security': 1, 'objecting': 1, 'requests': 1, 'ineffective': 1, 'dangerous': 1, 'drastically': 1, 'bioterrorism': 1, 'deleted': 1, 'everywhere': 1, 'needed': 1, 'release': 1, 'audits': 1, 'analyses.[327': 1, 'considerations': 1, 'framework': 1, 'Act': 1, 'SUM': 1, 'outlines': 1, 'dimensions': 1, 'follows:[328][329': 1, 'Connect': 1, 'sincerely': 1, 'openly': 1, 'inclusively': 1, 'developments': 1, 'frameworks': 1, 'decided': 1, 'Asilomar': 1, 'Montreal': 1, 'Declaration': 1, 'Responsible': 1, 'IEEE': 1, 'Ethics': 1, 'Autonomous': 1, 'Systems': 1, 'others;[330': 1, 'regarding': 1, 'contribute': 1, 'frameworks.[331': 1, 'Promotion': 1, 'communities': 1, 'consideration': 1, 'implications': 1, 'stages': 1, 'collaboration': 1, 'roles': 1, 'product': 1, 'managers': 1, 'delivery': 1, 'managers.[332': 1, 'toolset': 1, 'Inspect': 1, 'evaluations': 1, 'MIT': 1, 'licence': 1, 'GitHub': 1, 'party': 1, 'packages': 1, 'core': 1, 'capabilities.[333': 1, 'promoting': 1, 'regulating': 1, 'broader': 1, 'algorithms.[334': 1, 'landscape': 1, 'jurisdictions': 1, 'globally': 1, 'Index': 1, 'Stanford': 1, 'annual': 1, '127': 1, 'jumped': 1, '37': 1, 'Between': 1, 'Most': 1, 'member': 1, 'national': 1, 'Canada': 1, 'India': 1, 'Mauritius': 1, 'Russian': 1, 'Federation': 1, 'Saudi': 1, 'Arabia': 1, 'Arab': 1, 'Emirates': 1, 'Vietnam': 1, 'Others': 1, 'elaborating': 1, 'Bangladesh': 1, 'Malaysia': 1, 'Tunisia': 1, 'Partnership': 1, 'stating': 1, 'accordance': 1, 'democratic': 1, 'confidence': 1, 'Henry': 1, 'Kissinger': 1, 'Eric': 1, 'Schmidt': 1, 'Daniel': 1, 'Huttenlocher': 1, 'commission': 1, 'advisory': 1, 'executives': 1, 'officials': 1, 'academics.[341': 1, 'Council': 1, 'Europe': 1, 'legally': 1, 'binding': 1, 'treaty': 1, 'Human': 1, 'Rights': 1, 'Democracy': 1, 'Rule': 1, 'Law': 1, 'Kingdom': 1, 'signatories.[342': 1, 'attitudes': 1, 'towards': 1, 'varied': 1, 'greatly': 1, 'country': 1, '78': 1, 'drawbacks': 1, 'Reuters': 1, '/': 1, 'poses': 1, 'Fox': 1, 'News': 1, '41': 1, 'somewhat': 1, 'federal': 1, 'versus': 1, '13': 1, 'held': 1, 'Bletchley': 1, 'Park': 1, 'mandatory': 1, 'voluntary': 1, 'frameworks.[346': 1, 'issued': 1, 'declaration': 1, 'start': 1, 'summit': 1, 'manage': 1, 'intelligence.[347][348': 1, '16': 1, 'commitments': 1, 'AI.[349][350': 1, 'mechanical': 1, 'mathematicians': 1, 'antiquity': 1, 'shuffling': 1, 'conceivable': 1, 'reasoning.[353': 1, 'along': 1, 'concurrent': 1, 'discoveries': 1, 'cybernetics': 1, 'neurobiology': 1, 'building': 1, 'brain\".[r': 1, 'AI,[355': 1, 'McCulloch': 1, 'Pitts': 1, '1943': 1, 'influential': 1, 'paper': 1, 'plausible.[356][353': 1, 'workshop': 1, 'Dartmouth': 1, 'College': 1, '1956.[s][6': 1, 'attendees': 1, '1960s.[t': 1, 'students': 1, 'press': 1, 'astonishing\":[u': 1, 'checkers': 1, 'speaking': 1, 'English.[v][7': 1, 'laboratories': 1, 'latter': 1, '1960s.[353': 1, 'Researchers': 1, 'succeed': 1, '1965': 1, 'Herbert': 1, 'twenty': 1, 'man': 1, 'do\".[361': 1, '...': 1, 'substantially': 1, 'solved\".[362': 1, 'underestimated': 1, 'problem.[w': 1, '1974': 1, 'cut': 1, 'off': 1, 'Sir': 1, 'James': 1, 'Lighthill': 1, 'pressure': 1, 'Congress': 1, 'fund': 1, 'productive': 1, 'Papert': 1, 'Perceptrons': 1, 'understood': 1, 'discrediting': 1, 'altogether': 1, 'followed.[9': 1, 'revived': 1, 'expert': 1, 'systems,[367': 1, 'analytical': 1, 'skills': 1, '1985': 1, 'reached': 1, 'fifth': 1, 'restore': 1, 'research.[8': 1, 'collapse': 1, 'Lisp': 1, '1987': 1, 'again': 1, 'fell': 1, 'disrepute': 1, 'second': 1, 'lasting': 1, 'began.[10': 1, 'Up': 1, 'point': 1, 'gone': 1, 'doubt': 1, 'cognition': 1, 'look': 1, 'Rodney': 1, 'Brooks': 1, 'survive.[x': 1, 'Judea': 1, 'Pearl': 1, 'Lotfi': 1, 'Zadeh': 1, 'handled': 1, 'reasonable': 1, 'guesses': 1, 'precise': 1, 'logic.[87': 1, 'revival': 1, 'connectionism': 1, 'others.[375': 1, '1990': 1, 'successfully': 1, 'convolutional': 1, 'handwritten': 1, 'gradually': 1, 'restored': 1, 'reputation': 1, 'exploiting': 1, 'collaborate': 1, 'mathematics).[377': 1, '2000': 1, 'although': 1, 'effect).[378': 1, 'pursuing': 1, 'original': 1, 'fully': 1, 'Beginning': 1, '2002': 1, 'subfield': 1, '2010s.[68': 1, 'dominate': 1, 'field.[11': 1, 'abandoned.[y': 1, 'improvements': 1, 'faster': 1, 'computers,[380': 1, 'data[382': 1, 'ImageNet': 1, 'AI.[z': 1, 'amount': 1, 'measured': 1, '2015–2019': 1, 'misuse': 1, 'catapulted': 1, 'stage': 1, 'conferences': 1, 'careers': 1, 'alignment': 1, 'taught': 1, 'GPT-3': 1, 'text.[383': 1, 'consumer': 1, 'gaining': 1, 'months.[384': 1, 'marked': 1, 'regarded': 1, 'breakout': 1, 'year': 1, 'bringing': 1, 'consciousness.[385': 1, 'aggressive': 1, 'Impacts': 1, 'annually': 1, 'invested': 1, 'Science': 1, 'PhD': 1, 'graduates': 1, 'About': 1, 'AI\"-related': 1, 'openings': 1, 'existed': 1, 'PitchBook': 1, 'newly': 1, 'startups': 1, 'claimed': 1, 'companies.[388': 1, 'Philosophical': 1, 'debates': 1, 'historically': 1, 'sought': 1, 'nature': 1, 'machines.[389': 1, 'implications.[390': 1, 'topics': 1, 'epistemology': 1, 'will.[391': 1, 'Rapid': 1, 'advancements': 1, 'intensified': 1, 'AI.[390': 1, 'propose': 1, 'think': 1, 'advised': 1, 'changing': 1, 'machinery': 1, 'conversation.[356': 1, 'observe': 1, 'literally': 1, 'notes': 1, 'usual': 1, 'polite': 1, 'convention': 1, 'critical': 1, 'Aeronautical': 1, 'fly': 1, 'fool': 1, 'simulation': 1, 'textbook': 1, 'direct': 1, 'discussion': 1, 'Google,[399': 1, 'practitioner': 1, 'stipulates': 1, 'synthesize': 1, 'manifestation': 1, 'practice': 1, 'contention': 1, 'categorised': 1, 'AI,[400': 1, 'marketing': 1, 'buzzword': 1, 'material': 1, 'way\".[401': 1, 'debate': 1, 'exhibit': 1, 'genuine': 1, 'merely': 1, 'imitating': 1, 'text.[402': 1, 'No': 1, 'unifying': 1, 'paradigm': 1, 'history.[aa': 1, 'unprecedented': 1, 'eclipsed': 1, 'mean': 1, 'mostly': 1, 'revisited': 1, 'generations': 1, 'Symbolic': 1, 'GOFAI': 1, 'IQ': 1, 'Newell': 1, 'hypothesis': 1, '\"[405': 1, 'failed': 1, 'easily': 1, 'recognizing': 1, 'object': 1, 'paradox': 1, 'instinctive': 1, 'extremely': 1, 'difficult.[406': 1, 'Hubert': 1, 'Dreyfus': 1, 'expertise': 1, 'depends': 1, 'unconscious': 1, 'instinct': 1, 'manipulation': 1, 'knowledge.[407': 1, 'ridiculed': 1, 'ignored': 1, 'came': 1, 'him.[ab][16': 1, 'resolved': 1, 'inscrutable': 1, 'intuition': 1, 'continuing': 1, 'attain': 1, 'explainable': 1, 'understand': 1, 'neuro': 1, 'bridge': 1, 'elegant': 1, 'Scruffies': 1, 'necessarily': 1, 'unrelated': 1, 'defend': 1, 'rigor': 1, 'scruffies': 1, 'rely': 1, 'incremental': 1, 'actively': 1, '1980s,[411': 1, 'elements': 1, 'Finding': 1, 'optimal': 1, 'problems.[15': 1, 'genetic': 1, 'fuzzy': 1, 'tolerant': 1, 'imprecision': 1, 'uncertainty': 1, 'approximation': 1, 'pursue': 1, 'indirectly': 1, 'focusing': 1, 'exclusively': 1, 'settled': 1, 'consensus': 1, 'experiences': 1, 'Mainstream': 1, 'add': 1, 't]he': 1, 'equipped': 1, 'David': 1, 'Chalmers': 1, 'controls': 1, 'explaining': 1, 'feels': 1, 'assuming': 1, 'truly': 1, 'Dennett': 1, 'illusionism': 1, 'says': 1, 'illusion': 1, 'subjective': 1, 'imagine': 1, 'color': 1, 'clear': 1, 'looks': 1, 'identical': 1, 'originally': 1, 'Jerry': 1, 'Fodor': 1, 'Hilary': 1, 'Putnam': 1, 'characterized': 1, 'appropriately': 1, 'thereby': 1, 'minds': 1, '\"[ac': 1, 'claim': 1, 'room': 1, 'argument': 1, 'perfectly': 1, 'mind.[421': 1, 'degree.[422': 1, 'entitled': 1, 'animals.[423][424': 1, 'Sapience': 1, 'capacities': 1, 'discernment': 1, 'another': 1, 'rights.[423': 1, 'practical': 1, 'integrate': 1, 'society.[425': 1, 'Similarly': 1, 'status': 1, 'conferred': 1, 'responsibilities.[426': 1, '2018': 1, 'downplay': 1, 'importance': 1, 'legislation': 1, 'needs': 1, 'speculative': 1, 'futuristic': 1, 'lacked': 1, 'autonomy': 1, 'own.[427][428': 1, 'Progress': 1, 'topic': 1, 'Proponents': 1, 'emerges': 1, 'deny': 1, 'spot': 1, 'analogous': 1, 'slavery': 1, 'factory': 1, 'farming': 1, 'suffering': 1, 'carelessly': 1, 'exploited.[424][423': 1, 'hypothetical': 1, 'possess': 1, 'surpassing': 1, 'brightest': 1, 'gifted': 1, 'reprogram': 1, 'improving': 1, 'I.': 1, 'Good': 1, 'Vernor': 1, 'Vinge': 1, 'singularity\".[429': 1, 'indefinitely': 1, 'follow': 1, 'S': 1, 'shaped': 1, 'curve': 1, 'slowing': 1, 'limits': 1, 'designer': 1, 'Hans': 1, 'cyberneticist': 1, 'Kevin': 1, 'Warwick': 1, 'inventor': 1, 'Ray': 1, 'Kurzweil': 1, 'merge': 1, 'cyborgs': 1, 'either': 1, 'transhumanism': 1, 'roots': 1, 'writings': 1, 'Aldous': 1, 'Huxley': 1, 'Robert': 1, 'Ettinger.[431': 1, 'Edward': 1, 'Fredkin': 1, 'evolution': 1, 'Samuel': 1, 'Butler': 1, '1863': 1, 'expanded': 1, 'George': 1, 'Dyson': 1, '1998': 1, 'Evolution': 1, 'Intelligence.[432': 1, 'Thought': 1, 'appeared': 1, 'storytelling': 1, 'antiquity,[433': 1, 'persistent': 1, 'theme': 1, 'trope': 1, 'Mary': 1, 'Shelley': 1, 'Frankenstein': 1, 'creation': 1, 'masters': 1, 'Arthur': 1, 'C.': 1, 'Clarke': 1, 'Stanley': 1, 'Kubrick': 1, '2001': 1, 'Space': 1, 'Odyssey': 1, '1968': 1, 'HAL': 1, '9000': 1, 'murderous': 1, 'charge': 1, 'Discovery': 1, 'spaceship': 1, 'Terminator': 1, '1984': 1, 'Matrix': 1, '1999': 1, 'rare': 1, 'loyal': 1, 'Gort': 1, 'Earth': 1, 'Stood': 1, 'Still': 1, '1951': 1, 'Bishop': 1, 'Aliens': 1, '1986': 1, 'prominent': 1, 'Isaac': 1, 'Laws': 1, 'Robotics': 1, 'Multivac': 1, 'super': 1, 'brought': 1, 'lay': 1, 'familiar': 1, 'useless': 1, 'reasons': 1, 'ambiguity': 1, 'force': 1, 'confront': 1, 'fundamental': 1, 'showing': 1, 'appears': 1, 'Karel': 1, 'Čapek': 1, 'R.U.R.': 1, 'films': 1, 'A.I.': 1, 'Ex': 1, 'Machina': 1, 'Do': 1, 'Androids': 1, 'Dream': 1, 'Electric': 1, 'Sheep': 1, 'Philip': 1, 'K.': 1, 'altered': 1, 'impact': 1, 'political': 1, 'Advancement': 1, 'Case': 1, 'Process': 1, 'Ability': 1, 'Glossary': 1, 'List': 1, 'amplification': 1, 'augment': 1, 'Organoid': 1, 'cells': 1, 'organoids': 1, 'Last': 1, 'Welsh': 1, 'DARWIN': 1, 'coordinated': 1, 'Medicines': 1, 'EMA': 1, 'utilize': 1, 'evidence': 1, 'RWE': 1, 'evaluation': 1, 'supervision': 1, 'medicines': 1, 'across': 1, 'Syllabus': 1, '):': 1, '2008': 1, 'None': 1, 'Alberto': 1, 'Marco': 1, 'Introduction': 1, '1st': 1, 'ed': 1, 'Intellisemantic': 1, 'Editions': 1, 'ISBN': 1})\n"
          ]
        }
      ]
    },
    {
      "cell_type": "code",
      "source": [
        "print(freq.most_common(10))"
      ],
      "metadata": {
        "colab": {
          "base_uri": "https://localhost:8080/"
        },
        "id": "POLuWZ3Tnou0",
        "outputId": "c78a5a6d-6e00-485b-db97-eb54eccefb3f"
      },
      "execution_count": null,
      "outputs": [
        {
          "output_type": "stream",
          "name": "stdout",
          "text": [
            "[(',', 775), ('the', 537), ('and', 434), ('of', 383), ('to', 349), ('.', 341), (']', 289), ('\"', 258), ('AI', 226), ('in', 225)]\n"
          ]
        }
      ]
    }
  ]
}